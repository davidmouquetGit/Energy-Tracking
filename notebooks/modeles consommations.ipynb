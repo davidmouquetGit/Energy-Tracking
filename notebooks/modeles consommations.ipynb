{
 "cells": [
  {
   "cell_type": "code",
   "execution_count": 2,
   "id": "b3146a6d",
   "metadata": {},
   "outputs": [],
   "source": [
    "import pandas as pd\n",
    "from pathlib import Path\n",
    "import sys\n",
    "import os\n",
    "# Ajoute le répertoire parent au chemin de recherche de Python\n",
    "sys.path.append(os.path.join(str(Path().resolve().parent),\"gestionbdd\"))\n",
    "import getdata\n"
   ]
  },
  {
   "cell_type": "code",
   "execution_count": null,
   "id": "08e289e4",
   "metadata": {},
   "outputs": [
    {
     "name": "stdout",
     "output_type": "stream",
     "text": [
      "source de données inconnue\n"
     ]
    }
   ],
   "source": [
    "debut = \"2023-01-01\"\n",
    "fin   = \"2023-12-31\"\n",
    "# Chargement des données stockées dans PostGres\n",
    "\n",
    "data_occup_jour  = getdata.get_data(source = \"occup_jour\")\n",
    "data_elec_jour   = getdata.get_data(source = \"gaz_jour\")\n",
    "data_gaz_jour    = getdata.get_data(source = \"gaz_jour\")\n",
    "data_meteo_jour  = getdata.get_data(source = \"meteo_jour\")\n",
    "\n",
    "data_occup_jour  = data_occup_jour [(data_occup_jour .index>=debut) & (data_occup_jour.index<=fin)]\n",
    "data_elec_jour   = data_elec_jour[(data_elec_jour.index>=debut) & (data_elec_jour.index<=fin)]\n",
    "data_gaz_jour    = data_gaz_jour[(data_gaz_jour.index>=debut) & (data_gaz_jour.index<=fin)]\n",
    "data_meteo_jour  = data_meteo_jour[(data_meteo_jour.index>=debut) & (data_meteo_jour.index<=fin)]\n",
    "data_occup_jour['presence'] = data_occup_jour['presence'].apply(lambda o: 1.0 if o==\"oui\" else 0.0)\n",
    "T_moyenne = (data_meteo_jour['temperature_2m_min'] + data_meteo_jour['temperature_2m_max']) / 2\n",
    "data_meteo_jour = data_meteo_jour.assign(DJU=lambda x: (18.0 - T_moyenne).clip(lower=0))\n",
    "data_model_elec  = pd.concat([data_elec_jour['value'],data_meteo_jour['DJU'],data_occup_jour['presence']], axis=1)"
   ]
  },
  {
   "cell_type": "markdown",
   "id": "77335be0",
   "metadata": {},
   "source": [
    "## Modèle jours"
   ]
  },
  {
   "cell_type": "code",
   "execution_count": null,
   "id": "4f4627ab",
   "metadata": {},
   "outputs": [
    {
     "data": {
      "text/html": [
       "<style>#sk-container-id-5 {\n",
       "  /* Definition of color scheme common for light and dark mode */\n",
       "  --sklearn-color-text: #000;\n",
       "  --sklearn-color-text-muted: #666;\n",
       "  --sklearn-color-line: gray;\n",
       "  /* Definition of color scheme for unfitted estimators */\n",
       "  --sklearn-color-unfitted-level-0: #fff5e6;\n",
       "  --sklearn-color-unfitted-level-1: #f6e4d2;\n",
       "  --sklearn-color-unfitted-level-2: #ffe0b3;\n",
       "  --sklearn-color-unfitted-level-3: chocolate;\n",
       "  /* Definition of color scheme for fitted estimators */\n",
       "  --sklearn-color-fitted-level-0: #f0f8ff;\n",
       "  --sklearn-color-fitted-level-1: #d4ebff;\n",
       "  --sklearn-color-fitted-level-2: #b3dbfd;\n",
       "  --sklearn-color-fitted-level-3: cornflowerblue;\n",
       "\n",
       "  /* Specific color for light theme */\n",
       "  --sklearn-color-text-on-default-background: var(--sg-text-color, var(--theme-code-foreground, var(--jp-content-font-color1, black)));\n",
       "  --sklearn-color-background: var(--sg-background-color, var(--theme-background, var(--jp-layout-color0, white)));\n",
       "  --sklearn-color-border-box: var(--sg-text-color, var(--theme-code-foreground, var(--jp-content-font-color1, black)));\n",
       "  --sklearn-color-icon: #696969;\n",
       "\n",
       "  @media (prefers-color-scheme: dark) {\n",
       "    /* Redefinition of color scheme for dark theme */\n",
       "    --sklearn-color-text-on-default-background: var(--sg-text-color, var(--theme-code-foreground, var(--jp-content-font-color1, white)));\n",
       "    --sklearn-color-background: var(--sg-background-color, var(--theme-background, var(--jp-layout-color0, #111)));\n",
       "    --sklearn-color-border-box: var(--sg-text-color, var(--theme-code-foreground, var(--jp-content-font-color1, white)));\n",
       "    --sklearn-color-icon: #878787;\n",
       "  }\n",
       "}\n",
       "\n",
       "#sk-container-id-5 {\n",
       "  color: var(--sklearn-color-text);\n",
       "}\n",
       "\n",
       "#sk-container-id-5 pre {\n",
       "  padding: 0;\n",
       "}\n",
       "\n",
       "#sk-container-id-5 input.sk-hidden--visually {\n",
       "  border: 0;\n",
       "  clip: rect(1px 1px 1px 1px);\n",
       "  clip: rect(1px, 1px, 1px, 1px);\n",
       "  height: 1px;\n",
       "  margin: -1px;\n",
       "  overflow: hidden;\n",
       "  padding: 0;\n",
       "  position: absolute;\n",
       "  width: 1px;\n",
       "}\n",
       "\n",
       "#sk-container-id-5 div.sk-dashed-wrapped {\n",
       "  border: 1px dashed var(--sklearn-color-line);\n",
       "  margin: 0 0.4em 0.5em 0.4em;\n",
       "  box-sizing: border-box;\n",
       "  padding-bottom: 0.4em;\n",
       "  background-color: var(--sklearn-color-background);\n",
       "}\n",
       "\n",
       "#sk-container-id-5 div.sk-container {\n",
       "  /* jupyter's `normalize.less` sets `[hidden] { display: none; }`\n",
       "     but bootstrap.min.css set `[hidden] { display: none !important; }`\n",
       "     so we also need the `!important` here to be able to override the\n",
       "     default hidden behavior on the sphinx rendered scikit-learn.org.\n",
       "     See: https://github.com/scikit-learn/scikit-learn/issues/21755 */\n",
       "  display: inline-block !important;\n",
       "  position: relative;\n",
       "}\n",
       "\n",
       "#sk-container-id-5 div.sk-text-repr-fallback {\n",
       "  display: none;\n",
       "}\n",
       "\n",
       "div.sk-parallel-item,\n",
       "div.sk-serial,\n",
       "div.sk-item {\n",
       "  /* draw centered vertical line to link estimators */\n",
       "  background-image: linear-gradient(var(--sklearn-color-text-on-default-background), var(--sklearn-color-text-on-default-background));\n",
       "  background-size: 2px 100%;\n",
       "  background-repeat: no-repeat;\n",
       "  background-position: center center;\n",
       "}\n",
       "\n",
       "/* Parallel-specific style estimator block */\n",
       "\n",
       "#sk-container-id-5 div.sk-parallel-item::after {\n",
       "  content: \"\";\n",
       "  width: 100%;\n",
       "  border-bottom: 2px solid var(--sklearn-color-text-on-default-background);\n",
       "  flex-grow: 1;\n",
       "}\n",
       "\n",
       "#sk-container-id-5 div.sk-parallel {\n",
       "  display: flex;\n",
       "  align-items: stretch;\n",
       "  justify-content: center;\n",
       "  background-color: var(--sklearn-color-background);\n",
       "  position: relative;\n",
       "}\n",
       "\n",
       "#sk-container-id-5 div.sk-parallel-item {\n",
       "  display: flex;\n",
       "  flex-direction: column;\n",
       "}\n",
       "\n",
       "#sk-container-id-5 div.sk-parallel-item:first-child::after {\n",
       "  align-self: flex-end;\n",
       "  width: 50%;\n",
       "}\n",
       "\n",
       "#sk-container-id-5 div.sk-parallel-item:last-child::after {\n",
       "  align-self: flex-start;\n",
       "  width: 50%;\n",
       "}\n",
       "\n",
       "#sk-container-id-5 div.sk-parallel-item:only-child::after {\n",
       "  width: 0;\n",
       "}\n",
       "\n",
       "/* Serial-specific style estimator block */\n",
       "\n",
       "#sk-container-id-5 div.sk-serial {\n",
       "  display: flex;\n",
       "  flex-direction: column;\n",
       "  align-items: center;\n",
       "  background-color: var(--sklearn-color-background);\n",
       "  padding-right: 1em;\n",
       "  padding-left: 1em;\n",
       "}\n",
       "\n",
       "\n",
       "/* Toggleable style: style used for estimator/Pipeline/ColumnTransformer box that is\n",
       "clickable and can be expanded/collapsed.\n",
       "- Pipeline and ColumnTransformer use this feature and define the default style\n",
       "- Estimators will overwrite some part of the style using the `sk-estimator` class\n",
       "*/\n",
       "\n",
       "/* Pipeline and ColumnTransformer style (default) */\n",
       "\n",
       "#sk-container-id-5 div.sk-toggleable {\n",
       "  /* Default theme specific background. It is overwritten whether we have a\n",
       "  specific estimator or a Pipeline/ColumnTransformer */\n",
       "  background-color: var(--sklearn-color-background);\n",
       "}\n",
       "\n",
       "/* Toggleable label */\n",
       "#sk-container-id-5 label.sk-toggleable__label {\n",
       "  cursor: pointer;\n",
       "  display: flex;\n",
       "  width: 100%;\n",
       "  margin-bottom: 0;\n",
       "  padding: 0.5em;\n",
       "  box-sizing: border-box;\n",
       "  text-align: center;\n",
       "  align-items: start;\n",
       "  justify-content: space-between;\n",
       "  gap: 0.5em;\n",
       "}\n",
       "\n",
       "#sk-container-id-5 label.sk-toggleable__label .caption {\n",
       "  font-size: 0.6rem;\n",
       "  font-weight: lighter;\n",
       "  color: var(--sklearn-color-text-muted);\n",
       "}\n",
       "\n",
       "#sk-container-id-5 label.sk-toggleable__label-arrow:before {\n",
       "  /* Arrow on the left of the label */\n",
       "  content: \"▸\";\n",
       "  float: left;\n",
       "  margin-right: 0.25em;\n",
       "  color: var(--sklearn-color-icon);\n",
       "}\n",
       "\n",
       "#sk-container-id-5 label.sk-toggleable__label-arrow:hover:before {\n",
       "  color: var(--sklearn-color-text);\n",
       "}\n",
       "\n",
       "/* Toggleable content - dropdown */\n",
       "\n",
       "#sk-container-id-5 div.sk-toggleable__content {\n",
       "  display: none;\n",
       "  text-align: left;\n",
       "  /* unfitted */\n",
       "  background-color: var(--sklearn-color-unfitted-level-0);\n",
       "}\n",
       "\n",
       "#sk-container-id-5 div.sk-toggleable__content.fitted {\n",
       "  /* fitted */\n",
       "  background-color: var(--sklearn-color-fitted-level-0);\n",
       "}\n",
       "\n",
       "#sk-container-id-5 div.sk-toggleable__content pre {\n",
       "  margin: 0.2em;\n",
       "  border-radius: 0.25em;\n",
       "  color: var(--sklearn-color-text);\n",
       "  /* unfitted */\n",
       "  background-color: var(--sklearn-color-unfitted-level-0);\n",
       "}\n",
       "\n",
       "#sk-container-id-5 div.sk-toggleable__content.fitted pre {\n",
       "  /* unfitted */\n",
       "  background-color: var(--sklearn-color-fitted-level-0);\n",
       "}\n",
       "\n",
       "#sk-container-id-5 input.sk-toggleable__control:checked~div.sk-toggleable__content {\n",
       "  /* Expand drop-down */\n",
       "  display: block;\n",
       "  width: 100%;\n",
       "  overflow: visible;\n",
       "}\n",
       "\n",
       "#sk-container-id-5 input.sk-toggleable__control:checked~label.sk-toggleable__label-arrow:before {\n",
       "  content: \"▾\";\n",
       "}\n",
       "\n",
       "/* Pipeline/ColumnTransformer-specific style */\n",
       "\n",
       "#sk-container-id-5 div.sk-label input.sk-toggleable__control:checked~label.sk-toggleable__label {\n",
       "  color: var(--sklearn-color-text);\n",
       "  background-color: var(--sklearn-color-unfitted-level-2);\n",
       "}\n",
       "\n",
       "#sk-container-id-5 div.sk-label.fitted input.sk-toggleable__control:checked~label.sk-toggleable__label {\n",
       "  background-color: var(--sklearn-color-fitted-level-2);\n",
       "}\n",
       "\n",
       "/* Estimator-specific style */\n",
       "\n",
       "/* Colorize estimator box */\n",
       "#sk-container-id-5 div.sk-estimator input.sk-toggleable__control:checked~label.sk-toggleable__label {\n",
       "  /* unfitted */\n",
       "  background-color: var(--sklearn-color-unfitted-level-2);\n",
       "}\n",
       "\n",
       "#sk-container-id-5 div.sk-estimator.fitted input.sk-toggleable__control:checked~label.sk-toggleable__label {\n",
       "  /* fitted */\n",
       "  background-color: var(--sklearn-color-fitted-level-2);\n",
       "}\n",
       "\n",
       "#sk-container-id-5 div.sk-label label.sk-toggleable__label,\n",
       "#sk-container-id-5 div.sk-label label {\n",
       "  /* The background is the default theme color */\n",
       "  color: var(--sklearn-color-text-on-default-background);\n",
       "}\n",
       "\n",
       "/* On hover, darken the color of the background */\n",
       "#sk-container-id-5 div.sk-label:hover label.sk-toggleable__label {\n",
       "  color: var(--sklearn-color-text);\n",
       "  background-color: var(--sklearn-color-unfitted-level-2);\n",
       "}\n",
       "\n",
       "/* Label box, darken color on hover, fitted */\n",
       "#sk-container-id-5 div.sk-label.fitted:hover label.sk-toggleable__label.fitted {\n",
       "  color: var(--sklearn-color-text);\n",
       "  background-color: var(--sklearn-color-fitted-level-2);\n",
       "}\n",
       "\n",
       "/* Estimator label */\n",
       "\n",
       "#sk-container-id-5 div.sk-label label {\n",
       "  font-family: monospace;\n",
       "  font-weight: bold;\n",
       "  display: inline-block;\n",
       "  line-height: 1.2em;\n",
       "}\n",
       "\n",
       "#sk-container-id-5 div.sk-label-container {\n",
       "  text-align: center;\n",
       "}\n",
       "\n",
       "/* Estimator-specific */\n",
       "#sk-container-id-5 div.sk-estimator {\n",
       "  font-family: monospace;\n",
       "  border: 1px dotted var(--sklearn-color-border-box);\n",
       "  border-radius: 0.25em;\n",
       "  box-sizing: border-box;\n",
       "  margin-bottom: 0.5em;\n",
       "  /* unfitted */\n",
       "  background-color: var(--sklearn-color-unfitted-level-0);\n",
       "}\n",
       "\n",
       "#sk-container-id-5 div.sk-estimator.fitted {\n",
       "  /* fitted */\n",
       "  background-color: var(--sklearn-color-fitted-level-0);\n",
       "}\n",
       "\n",
       "/* on hover */\n",
       "#sk-container-id-5 div.sk-estimator:hover {\n",
       "  /* unfitted */\n",
       "  background-color: var(--sklearn-color-unfitted-level-2);\n",
       "}\n",
       "\n",
       "#sk-container-id-5 div.sk-estimator.fitted:hover {\n",
       "  /* fitted */\n",
       "  background-color: var(--sklearn-color-fitted-level-2);\n",
       "}\n",
       "\n",
       "/* Specification for estimator info (e.g. \"i\" and \"?\") */\n",
       "\n",
       "/* Common style for \"i\" and \"?\" */\n",
       "\n",
       ".sk-estimator-doc-link,\n",
       "a:link.sk-estimator-doc-link,\n",
       "a:visited.sk-estimator-doc-link {\n",
       "  float: right;\n",
       "  font-size: smaller;\n",
       "  line-height: 1em;\n",
       "  font-family: monospace;\n",
       "  background-color: var(--sklearn-color-background);\n",
       "  border-radius: 1em;\n",
       "  height: 1em;\n",
       "  width: 1em;\n",
       "  text-decoration: none !important;\n",
       "  margin-left: 0.5em;\n",
       "  text-align: center;\n",
       "  /* unfitted */\n",
       "  border: var(--sklearn-color-unfitted-level-1) 1pt solid;\n",
       "  color: var(--sklearn-color-unfitted-level-1);\n",
       "}\n",
       "\n",
       ".sk-estimator-doc-link.fitted,\n",
       "a:link.sk-estimator-doc-link.fitted,\n",
       "a:visited.sk-estimator-doc-link.fitted {\n",
       "  /* fitted */\n",
       "  border: var(--sklearn-color-fitted-level-1) 1pt solid;\n",
       "  color: var(--sklearn-color-fitted-level-1);\n",
       "}\n",
       "\n",
       "/* On hover */\n",
       "div.sk-estimator:hover .sk-estimator-doc-link:hover,\n",
       ".sk-estimator-doc-link:hover,\n",
       "div.sk-label-container:hover .sk-estimator-doc-link:hover,\n",
       ".sk-estimator-doc-link:hover {\n",
       "  /* unfitted */\n",
       "  background-color: var(--sklearn-color-unfitted-level-3);\n",
       "  color: var(--sklearn-color-background);\n",
       "  text-decoration: none;\n",
       "}\n",
       "\n",
       "div.sk-estimator.fitted:hover .sk-estimator-doc-link.fitted:hover,\n",
       ".sk-estimator-doc-link.fitted:hover,\n",
       "div.sk-label-container:hover .sk-estimator-doc-link.fitted:hover,\n",
       ".sk-estimator-doc-link.fitted:hover {\n",
       "  /* fitted */\n",
       "  background-color: var(--sklearn-color-fitted-level-3);\n",
       "  color: var(--sklearn-color-background);\n",
       "  text-decoration: none;\n",
       "}\n",
       "\n",
       "/* Span, style for the box shown on hovering the info icon */\n",
       ".sk-estimator-doc-link span {\n",
       "  display: none;\n",
       "  z-index: 9999;\n",
       "  position: relative;\n",
       "  font-weight: normal;\n",
       "  right: .2ex;\n",
       "  padding: .5ex;\n",
       "  margin: .5ex;\n",
       "  width: min-content;\n",
       "  min-width: 20ex;\n",
       "  max-width: 50ex;\n",
       "  color: var(--sklearn-color-text);\n",
       "  box-shadow: 2pt 2pt 4pt #999;\n",
       "  /* unfitted */\n",
       "  background: var(--sklearn-color-unfitted-level-0);\n",
       "  border: .5pt solid var(--sklearn-color-unfitted-level-3);\n",
       "}\n",
       "\n",
       ".sk-estimator-doc-link.fitted span {\n",
       "  /* fitted */\n",
       "  background: var(--sklearn-color-fitted-level-0);\n",
       "  border: var(--sklearn-color-fitted-level-3);\n",
       "}\n",
       "\n",
       ".sk-estimator-doc-link:hover span {\n",
       "  display: block;\n",
       "}\n",
       "\n",
       "/* \"?\"-specific style due to the `<a>` HTML tag */\n",
       "\n",
       "#sk-container-id-5 a.estimator_doc_link {\n",
       "  float: right;\n",
       "  font-size: 1rem;\n",
       "  line-height: 1em;\n",
       "  font-family: monospace;\n",
       "  background-color: var(--sklearn-color-background);\n",
       "  border-radius: 1rem;\n",
       "  height: 1rem;\n",
       "  width: 1rem;\n",
       "  text-decoration: none;\n",
       "  /* unfitted */\n",
       "  color: var(--sklearn-color-unfitted-level-1);\n",
       "  border: var(--sklearn-color-unfitted-level-1) 1pt solid;\n",
       "}\n",
       "\n",
       "#sk-container-id-5 a.estimator_doc_link.fitted {\n",
       "  /* fitted */\n",
       "  border: var(--sklearn-color-fitted-level-1) 1pt solid;\n",
       "  color: var(--sklearn-color-fitted-level-1);\n",
       "}\n",
       "\n",
       "/* On hover */\n",
       "#sk-container-id-5 a.estimator_doc_link:hover {\n",
       "  /* unfitted */\n",
       "  background-color: var(--sklearn-color-unfitted-level-3);\n",
       "  color: var(--sklearn-color-background);\n",
       "  text-decoration: none;\n",
       "}\n",
       "\n",
       "#sk-container-id-5 a.estimator_doc_link.fitted:hover {\n",
       "  /* fitted */\n",
       "  background-color: var(--sklearn-color-fitted-level-3);\n",
       "}\n",
       "\n",
       ".estimator-table summary {\n",
       "    padding: .5rem;\n",
       "    font-family: monospace;\n",
       "    cursor: pointer;\n",
       "}\n",
       "\n",
       ".estimator-table details[open] {\n",
       "    padding-left: 0.1rem;\n",
       "    padding-right: 0.1rem;\n",
       "    padding-bottom: 0.3rem;\n",
       "}\n",
       "\n",
       ".estimator-table .parameters-table {\n",
       "    margin-left: auto !important;\n",
       "    margin-right: auto !important;\n",
       "}\n",
       "\n",
       ".estimator-table .parameters-table tr:nth-child(odd) {\n",
       "    background-color: #fff;\n",
       "}\n",
       "\n",
       ".estimator-table .parameters-table tr:nth-child(even) {\n",
       "    background-color: #f6f6f6;\n",
       "}\n",
       "\n",
       ".estimator-table .parameters-table tr:hover {\n",
       "    background-color: #e0e0e0;\n",
       "}\n",
       "\n",
       ".estimator-table table td {\n",
       "    border: 1px solid rgba(106, 105, 104, 0.232);\n",
       "}\n",
       "\n",
       ".user-set td {\n",
       "    color:rgb(255, 94, 0);\n",
       "    text-align: left;\n",
       "}\n",
       "\n",
       ".user-set td.value pre {\n",
       "    color:rgb(255, 94, 0) !important;\n",
       "    background-color: transparent !important;\n",
       "}\n",
       "\n",
       ".default td {\n",
       "    color: black;\n",
       "    text-align: left;\n",
       "}\n",
       "\n",
       ".user-set td i,\n",
       ".default td i {\n",
       "    color: black;\n",
       "}\n",
       "\n",
       ".copy-paste-icon {\n",
       "    background-image: url(data:image/svg+xml;base64,PHN2ZyB4bWxucz0iaHR0cDovL3d3dy53My5vcmcvMjAwMC9zdmciIHZpZXdCb3g9IjAgMCA0NDggNTEyIj48IS0tIUZvbnQgQXdlc29tZSBGcmVlIDYuNy4yIGJ5IEBmb250YXdlc29tZSAtIGh0dHBzOi8vZm9udGF3ZXNvbWUuY29tIExpY2Vuc2UgLSBodHRwczovL2ZvbnRhd2Vzb21lLmNvbS9saWNlbnNlL2ZyZWUgQ29weXJpZ2h0IDIwMjUgRm9udGljb25zLCBJbmMuLS0+PHBhdGggZD0iTTIwOCAwTDMzMi4xIDBjMTIuNyAwIDI0LjkgNS4xIDMzLjkgMTQuMWw2Ny45IDY3LjljOSA5IDE0LjEgMjEuMiAxNC4xIDMzLjlMNDQ4IDMzNmMwIDI2LjUtMjEuNSA0OC00OCA0OGwtMTkyIDBjLTI2LjUgMC00OC0yMS41LTQ4LTQ4bDAtMjg4YzAtMjYuNSAyMS41LTQ4IDQ4LTQ4ek00OCAxMjhsODAgMCAwIDY0LTY0IDAgMCAyNTYgMTkyIDAgMC0zMiA2NCAwIDAgNDhjMCAyNi41LTIxLjUgNDgtNDggNDhMNDggNTEyYy0yNi41IDAtNDgtMjEuNS00OC00OEwwIDE3NmMwLTI2LjUgMjEuNS00OCA0OC00OHoiLz48L3N2Zz4=);\n",
       "    background-repeat: no-repeat;\n",
       "    background-size: 14px 14px;\n",
       "    background-position: 0;\n",
       "    display: inline-block;\n",
       "    width: 14px;\n",
       "    height: 14px;\n",
       "    cursor: pointer;\n",
       "}\n",
       "</style><body><div id=\"sk-container-id-5\" class=\"sk-top-container\"><div class=\"sk-text-repr-fallback\"><pre>LinearRegression()</pre><b>In a Jupyter environment, please rerun this cell to show the HTML representation or trust the notebook. <br />On GitHub, the HTML representation is unable to render, please try loading this page with nbviewer.org.</b></div><div class=\"sk-container\" hidden><div class=\"sk-item\"><div class=\"sk-estimator fitted sk-toggleable\"><input class=\"sk-toggleable__control sk-hidden--visually\" id=\"sk-estimator-id-5\" type=\"checkbox\" checked><label for=\"sk-estimator-id-5\" class=\"sk-toggleable__label fitted sk-toggleable__label-arrow\"><div><div>LinearRegression</div></div><div><a class=\"sk-estimator-doc-link fitted\" rel=\"noreferrer\" target=\"_blank\" href=\"https://scikit-learn.org/1.7/modules/generated/sklearn.linear_model.LinearRegression.html\">?<span>Documentation for LinearRegression</span></a><span class=\"sk-estimator-doc-link fitted\">i<span>Fitted</span></span></div></label><div class=\"sk-toggleable__content fitted\" data-param-prefix=\"\">\n",
       "        <div class=\"estimator-table\">\n",
       "            <details>\n",
       "                <summary>Parameters</summary>\n",
       "                <table class=\"parameters-table\">\n",
       "                  <tbody>\n",
       "                    \n",
       "        <tr class=\"default\">\n",
       "            <td><i class=\"copy-paste-icon\"\n",
       "                 onclick=\"copyToClipboard('fit_intercept',\n",
       "                          this.parentElement.nextElementSibling)\"\n",
       "            ></i></td>\n",
       "            <td class=\"param\">fit_intercept&nbsp;</td>\n",
       "            <td class=\"value\">True</td>\n",
       "        </tr>\n",
       "    \n",
       "\n",
       "        <tr class=\"default\">\n",
       "            <td><i class=\"copy-paste-icon\"\n",
       "                 onclick=\"copyToClipboard('copy_X',\n",
       "                          this.parentElement.nextElementSibling)\"\n",
       "            ></i></td>\n",
       "            <td class=\"param\">copy_X&nbsp;</td>\n",
       "            <td class=\"value\">True</td>\n",
       "        </tr>\n",
       "    \n",
       "\n",
       "        <tr class=\"default\">\n",
       "            <td><i class=\"copy-paste-icon\"\n",
       "                 onclick=\"copyToClipboard('tol',\n",
       "                          this.parentElement.nextElementSibling)\"\n",
       "            ></i></td>\n",
       "            <td class=\"param\">tol&nbsp;</td>\n",
       "            <td class=\"value\">1e-06</td>\n",
       "        </tr>\n",
       "    \n",
       "\n",
       "        <tr class=\"default\">\n",
       "            <td><i class=\"copy-paste-icon\"\n",
       "                 onclick=\"copyToClipboard('n_jobs',\n",
       "                          this.parentElement.nextElementSibling)\"\n",
       "            ></i></td>\n",
       "            <td class=\"param\">n_jobs&nbsp;</td>\n",
       "            <td class=\"value\">None</td>\n",
       "        </tr>\n",
       "    \n",
       "\n",
       "        <tr class=\"default\">\n",
       "            <td><i class=\"copy-paste-icon\"\n",
       "                 onclick=\"copyToClipboard('positive',\n",
       "                          this.parentElement.nextElementSibling)\"\n",
       "            ></i></td>\n",
       "            <td class=\"param\">positive&nbsp;</td>\n",
       "            <td class=\"value\">False</td>\n",
       "        </tr>\n",
       "    \n",
       "                  </tbody>\n",
       "                </table>\n",
       "            </details>\n",
       "        </div>\n",
       "    </div></div></div></div></div><script>function copyToClipboard(text, element) {\n",
       "    // Get the parameter prefix from the closest toggleable content\n",
       "    const toggleableContent = element.closest('.sk-toggleable__content');\n",
       "    const paramPrefix = toggleableContent ? toggleableContent.dataset.paramPrefix : '';\n",
       "    const fullParamName = paramPrefix ? `${paramPrefix}${text}` : text;\n",
       "\n",
       "    const originalStyle = element.style;\n",
       "    const computedStyle = window.getComputedStyle(element);\n",
       "    const originalWidth = computedStyle.width;\n",
       "    const originalHTML = element.innerHTML.replace('Copied!', '');\n",
       "\n",
       "    navigator.clipboard.writeText(fullParamName)\n",
       "        .then(() => {\n",
       "            element.style.width = originalWidth;\n",
       "            element.style.color = 'green';\n",
       "            element.innerHTML = \"Copied!\";\n",
       "\n",
       "            setTimeout(() => {\n",
       "                element.innerHTML = originalHTML;\n",
       "                element.style = originalStyle;\n",
       "            }, 2000);\n",
       "        })\n",
       "        .catch(err => {\n",
       "            console.error('Failed to copy:', err);\n",
       "            element.style.color = 'red';\n",
       "            element.innerHTML = \"Failed!\";\n",
       "            setTimeout(() => {\n",
       "                element.innerHTML = originalHTML;\n",
       "                element.style = originalStyle;\n",
       "            }, 2000);\n",
       "        });\n",
       "    return false;\n",
       "}\n",
       "\n",
       "document.querySelectorAll('.fa-regular.fa-copy').forEach(function(element) {\n",
       "    const toggleableContent = element.closest('.sk-toggleable__content');\n",
       "    const paramPrefix = toggleableContent ? toggleableContent.dataset.paramPrefix : '';\n",
       "    const paramName = element.parentElement.nextElementSibling.textContent.trim();\n",
       "    const fullParamName = paramPrefix ? `${paramPrefix}${paramName}` : paramName;\n",
       "\n",
       "    element.setAttribute('title', fullParamName);\n",
       "});\n",
       "</script></body>"
      ],
      "text/plain": [
       "LinearRegression()"
      ]
     },
     "execution_count": 35,
     "metadata": {},
     "output_type": "execute_result"
    }
   ],
   "source": [
    "from sklearn.linear_model import LinearRegression\n",
    "\n",
    "model = LinearRegression()\n",
    "x = data_model_elec[['DJU','presence']]\n",
    "y = data_model_elec['value']\n",
    "model.fit(X=x,y=y)\n",
    "from sklearn.metrics import r2_score\n",
    "r2_score(y,model.predict(x) )"
   ]
  },
  {
   "cell_type": "code",
   "execution_count": 36,
   "id": "b3014893",
   "metadata": {},
   "outputs": [
    {
     "data": {
      "text/plain": [
       "0.6244836854473995"
      ]
     },
     "execution_count": 36,
     "metadata": {},
     "output_type": "execute_result"
    }
   ],
   "source": [
    "from sklearn.metrics import r2_score\n",
    "r2_score(y,model.predict(x) )"
   ]
  },
  {
   "cell_type": "code",
   "execution_count": 37,
   "id": "c6b663ee",
   "metadata": {},
   "outputs": [
    {
     "data": {
      "application/vnd.plotly.v1+json": {
       "config": {
        "plotlyServerURL": "https://plot.ly"
       },
       "data": [
        {
         "mode": "lines",
         "name": "mesure",
         "type": "scatter",
         "x": [
          "2023-01-01T00:00:00.000000000",
          "2023-01-02T00:00:00.000000000",
          "2023-01-03T00:00:00.000000000",
          "2023-01-04T00:00:00.000000000",
          "2023-01-05T00:00:00.000000000",
          "2023-01-06T00:00:00.000000000",
          "2023-01-07T00:00:00.000000000",
          "2023-01-08T00:00:00.000000000",
          "2023-01-09T00:00:00.000000000",
          "2023-01-10T00:00:00.000000000",
          "2023-01-11T00:00:00.000000000",
          "2023-01-12T00:00:00.000000000",
          "2023-01-13T00:00:00.000000000",
          "2023-01-14T00:00:00.000000000",
          "2023-01-15T00:00:00.000000000",
          "2023-01-16T00:00:00.000000000",
          "2023-01-17T00:00:00.000000000",
          "2023-01-18T00:00:00.000000000",
          "2023-01-19T00:00:00.000000000",
          "2023-01-20T00:00:00.000000000",
          "2023-01-21T00:00:00.000000000",
          "2023-01-22T00:00:00.000000000",
          "2023-01-23T00:00:00.000000000",
          "2023-01-24T00:00:00.000000000",
          "2023-01-25T00:00:00.000000000",
          "2023-01-26T00:00:00.000000000",
          "2023-01-27T00:00:00.000000000",
          "2023-01-28T00:00:00.000000000",
          "2023-01-29T00:00:00.000000000",
          "2023-01-30T00:00:00.000000000",
          "2023-01-31T00:00:00.000000000",
          "2023-02-01T00:00:00.000000000",
          "2023-02-02T00:00:00.000000000",
          "2023-02-03T00:00:00.000000000",
          "2023-02-04T00:00:00.000000000",
          "2023-02-05T00:00:00.000000000",
          "2023-02-06T00:00:00.000000000",
          "2023-02-07T00:00:00.000000000",
          "2023-02-08T00:00:00.000000000",
          "2023-02-09T00:00:00.000000000",
          "2023-02-10T00:00:00.000000000",
          "2023-02-11T00:00:00.000000000",
          "2023-02-12T00:00:00.000000000",
          "2023-02-13T00:00:00.000000000",
          "2023-02-14T00:00:00.000000000",
          "2023-02-15T00:00:00.000000000",
          "2023-02-16T00:00:00.000000000",
          "2023-02-17T00:00:00.000000000",
          "2023-02-18T00:00:00.000000000",
          "2023-02-19T00:00:00.000000000",
          "2023-02-20T00:00:00.000000000",
          "2023-02-21T00:00:00.000000000",
          "2023-02-22T00:00:00.000000000",
          "2023-02-23T00:00:00.000000000",
          "2023-02-24T00:00:00.000000000",
          "2023-02-25T00:00:00.000000000",
          "2023-02-26T00:00:00.000000000",
          "2023-02-27T00:00:00.000000000",
          "2023-02-28T00:00:00.000000000",
          "2023-03-01T00:00:00.000000000",
          "2023-03-02T00:00:00.000000000",
          "2023-03-03T00:00:00.000000000",
          "2023-03-04T00:00:00.000000000",
          "2023-03-05T00:00:00.000000000",
          "2023-03-06T00:00:00.000000000",
          "2023-03-07T00:00:00.000000000",
          "2023-03-08T00:00:00.000000000",
          "2023-03-09T00:00:00.000000000",
          "2023-03-10T00:00:00.000000000",
          "2023-03-11T00:00:00.000000000",
          "2023-03-12T00:00:00.000000000",
          "2023-03-13T00:00:00.000000000",
          "2023-03-14T00:00:00.000000000",
          "2023-03-15T00:00:00.000000000",
          "2023-03-16T00:00:00.000000000",
          "2023-03-17T00:00:00.000000000",
          "2023-03-18T00:00:00.000000000",
          "2023-03-19T00:00:00.000000000",
          "2023-03-20T00:00:00.000000000",
          "2023-03-21T00:00:00.000000000",
          "2023-03-22T00:00:00.000000000",
          "2023-03-23T00:00:00.000000000",
          "2023-03-24T00:00:00.000000000",
          "2023-03-25T00:00:00.000000000",
          "2023-03-26T00:00:00.000000000",
          "2023-03-27T00:00:00.000000000",
          "2023-03-28T00:00:00.000000000",
          "2023-03-29T00:00:00.000000000",
          "2023-03-30T00:00:00.000000000",
          "2023-03-31T00:00:00.000000000",
          "2023-04-01T00:00:00.000000000",
          "2023-04-02T00:00:00.000000000",
          "2023-04-03T00:00:00.000000000",
          "2023-04-04T00:00:00.000000000",
          "2023-04-05T00:00:00.000000000",
          "2023-04-06T00:00:00.000000000",
          "2023-04-07T00:00:00.000000000",
          "2023-04-08T00:00:00.000000000",
          "2023-04-09T00:00:00.000000000",
          "2023-04-10T00:00:00.000000000",
          "2023-04-11T00:00:00.000000000",
          "2023-04-12T00:00:00.000000000",
          "2023-04-13T00:00:00.000000000",
          "2023-04-14T00:00:00.000000000",
          "2023-04-15T00:00:00.000000000",
          "2023-04-16T00:00:00.000000000",
          "2023-04-17T00:00:00.000000000",
          "2023-04-18T00:00:00.000000000",
          "2023-04-19T00:00:00.000000000",
          "2023-04-20T00:00:00.000000000",
          "2023-04-21T00:00:00.000000000",
          "2023-04-22T00:00:00.000000000",
          "2023-04-23T00:00:00.000000000",
          "2023-04-24T00:00:00.000000000",
          "2023-04-25T00:00:00.000000000",
          "2023-04-26T00:00:00.000000000",
          "2023-04-27T00:00:00.000000000",
          "2023-04-28T00:00:00.000000000",
          "2023-04-29T00:00:00.000000000",
          "2023-04-30T00:00:00.000000000",
          "2023-05-01T00:00:00.000000000",
          "2023-05-02T00:00:00.000000000",
          "2023-05-03T00:00:00.000000000",
          "2023-05-04T00:00:00.000000000",
          "2023-05-05T00:00:00.000000000",
          "2023-05-06T00:00:00.000000000",
          "2023-05-07T00:00:00.000000000",
          "2023-05-08T00:00:00.000000000",
          "2023-05-09T00:00:00.000000000",
          "2023-05-10T00:00:00.000000000",
          "2023-05-11T00:00:00.000000000",
          "2023-05-12T00:00:00.000000000",
          "2023-05-13T00:00:00.000000000",
          "2023-05-14T00:00:00.000000000",
          "2023-05-15T00:00:00.000000000",
          "2023-05-16T00:00:00.000000000",
          "2023-05-17T00:00:00.000000000",
          "2023-05-18T00:00:00.000000000",
          "2023-05-19T00:00:00.000000000",
          "2023-05-20T00:00:00.000000000",
          "2023-05-21T00:00:00.000000000",
          "2023-05-22T00:00:00.000000000",
          "2023-05-23T00:00:00.000000000",
          "2023-05-24T00:00:00.000000000",
          "2023-05-25T00:00:00.000000000",
          "2023-05-26T00:00:00.000000000",
          "2023-05-27T00:00:00.000000000",
          "2023-05-28T00:00:00.000000000",
          "2023-05-29T00:00:00.000000000",
          "2023-05-30T00:00:00.000000000",
          "2023-05-31T00:00:00.000000000",
          "2023-06-01T00:00:00.000000000",
          "2023-06-02T00:00:00.000000000",
          "2023-06-03T00:00:00.000000000",
          "2023-06-04T00:00:00.000000000",
          "2023-06-05T00:00:00.000000000",
          "2023-06-06T00:00:00.000000000",
          "2023-06-07T00:00:00.000000000",
          "2023-06-08T00:00:00.000000000",
          "2023-06-09T00:00:00.000000000",
          "2023-06-10T00:00:00.000000000",
          "2023-06-11T00:00:00.000000000",
          "2023-06-12T00:00:00.000000000",
          "2023-06-13T00:00:00.000000000",
          "2023-06-14T00:00:00.000000000",
          "2023-06-15T00:00:00.000000000",
          "2023-06-16T00:00:00.000000000",
          "2023-06-17T00:00:00.000000000",
          "2023-06-18T00:00:00.000000000",
          "2023-06-19T00:00:00.000000000",
          "2023-06-20T00:00:00.000000000",
          "2023-06-21T00:00:00.000000000",
          "2023-06-22T00:00:00.000000000",
          "2023-06-23T00:00:00.000000000",
          "2023-06-24T00:00:00.000000000",
          "2023-06-25T00:00:00.000000000",
          "2023-06-26T00:00:00.000000000",
          "2023-06-27T00:00:00.000000000",
          "2023-06-28T00:00:00.000000000",
          "2023-06-29T00:00:00.000000000",
          "2023-06-30T00:00:00.000000000",
          "2023-07-01T00:00:00.000000000",
          "2023-07-02T00:00:00.000000000",
          "2023-07-03T00:00:00.000000000",
          "2023-07-04T00:00:00.000000000",
          "2023-07-05T00:00:00.000000000",
          "2023-07-06T00:00:00.000000000",
          "2023-07-07T00:00:00.000000000",
          "2023-07-08T00:00:00.000000000",
          "2023-07-09T00:00:00.000000000",
          "2023-07-10T00:00:00.000000000",
          "2023-07-11T00:00:00.000000000",
          "2023-07-12T00:00:00.000000000",
          "2023-07-13T00:00:00.000000000",
          "2023-07-14T00:00:00.000000000",
          "2023-07-15T00:00:00.000000000",
          "2023-07-16T00:00:00.000000000",
          "2023-07-17T00:00:00.000000000",
          "2023-07-18T00:00:00.000000000",
          "2023-07-19T00:00:00.000000000",
          "2023-07-20T00:00:00.000000000",
          "2023-07-21T00:00:00.000000000",
          "2023-07-22T00:00:00.000000000",
          "2023-07-23T00:00:00.000000000",
          "2023-07-24T00:00:00.000000000",
          "2023-07-25T00:00:00.000000000",
          "2023-07-26T00:00:00.000000000",
          "2023-07-27T00:00:00.000000000",
          "2023-07-28T00:00:00.000000000",
          "2023-07-29T00:00:00.000000000",
          "2023-07-30T00:00:00.000000000",
          "2023-07-31T00:00:00.000000000",
          "2023-08-01T00:00:00.000000000",
          "2023-08-02T00:00:00.000000000",
          "2023-08-03T00:00:00.000000000",
          "2023-08-04T00:00:00.000000000",
          "2023-08-05T00:00:00.000000000",
          "2023-08-06T00:00:00.000000000",
          "2023-08-07T00:00:00.000000000",
          "2023-08-08T00:00:00.000000000",
          "2023-08-09T00:00:00.000000000",
          "2023-08-10T00:00:00.000000000",
          "2023-08-11T00:00:00.000000000",
          "2023-08-12T00:00:00.000000000",
          "2023-08-13T00:00:00.000000000",
          "2023-08-14T00:00:00.000000000",
          "2023-08-15T00:00:00.000000000",
          "2023-08-16T00:00:00.000000000",
          "2023-08-17T00:00:00.000000000",
          "2023-08-18T00:00:00.000000000",
          "2023-08-19T00:00:00.000000000",
          "2023-08-20T00:00:00.000000000",
          "2023-08-21T00:00:00.000000000",
          "2023-08-22T00:00:00.000000000",
          "2023-08-23T00:00:00.000000000",
          "2023-08-24T00:00:00.000000000",
          "2023-08-25T00:00:00.000000000",
          "2023-08-26T00:00:00.000000000",
          "2023-08-27T00:00:00.000000000",
          "2023-08-28T00:00:00.000000000",
          "2023-08-29T00:00:00.000000000",
          "2023-08-30T00:00:00.000000000",
          "2023-08-31T00:00:00.000000000",
          "2023-09-01T00:00:00.000000000",
          "2023-09-02T00:00:00.000000000",
          "2023-09-03T00:00:00.000000000",
          "2023-09-04T00:00:00.000000000",
          "2023-09-05T00:00:00.000000000",
          "2023-09-06T00:00:00.000000000",
          "2023-09-07T00:00:00.000000000",
          "2023-09-08T00:00:00.000000000",
          "2023-09-09T00:00:00.000000000",
          "2023-09-10T00:00:00.000000000",
          "2023-09-11T00:00:00.000000000",
          "2023-09-12T00:00:00.000000000",
          "2023-09-13T00:00:00.000000000",
          "2023-09-14T00:00:00.000000000",
          "2023-09-15T00:00:00.000000000",
          "2023-09-16T00:00:00.000000000",
          "2023-09-17T00:00:00.000000000",
          "2023-09-18T00:00:00.000000000",
          "2023-09-19T00:00:00.000000000",
          "2023-09-20T00:00:00.000000000",
          "2023-09-21T00:00:00.000000000",
          "2023-09-22T00:00:00.000000000",
          "2023-09-23T00:00:00.000000000",
          "2023-09-24T00:00:00.000000000",
          "2023-09-25T00:00:00.000000000",
          "2023-09-26T00:00:00.000000000",
          "2023-09-27T00:00:00.000000000",
          "2023-09-28T00:00:00.000000000",
          "2023-09-29T00:00:00.000000000",
          "2023-09-30T00:00:00.000000000",
          "2023-10-01T00:00:00.000000000",
          "2023-10-02T00:00:00.000000000",
          "2023-10-03T00:00:00.000000000",
          "2023-10-04T00:00:00.000000000",
          "2023-10-05T00:00:00.000000000",
          "2023-10-06T00:00:00.000000000",
          "2023-10-07T00:00:00.000000000",
          "2023-10-08T00:00:00.000000000",
          "2023-10-09T00:00:00.000000000",
          "2023-10-10T00:00:00.000000000",
          "2023-10-11T00:00:00.000000000",
          "2023-10-12T00:00:00.000000000",
          "2023-10-13T00:00:00.000000000",
          "2023-10-14T00:00:00.000000000",
          "2023-10-15T00:00:00.000000000",
          "2023-10-16T00:00:00.000000000",
          "2023-10-17T00:00:00.000000000",
          "2023-10-18T00:00:00.000000000",
          "2023-10-19T00:00:00.000000000",
          "2023-10-20T00:00:00.000000000",
          "2023-10-21T00:00:00.000000000",
          "2023-10-22T00:00:00.000000000",
          "2023-10-23T00:00:00.000000000",
          "2023-10-24T00:00:00.000000000",
          "2023-10-25T00:00:00.000000000",
          "2023-10-26T00:00:00.000000000",
          "2023-10-27T00:00:00.000000000",
          "2023-10-28T00:00:00.000000000",
          "2023-10-29T00:00:00.000000000",
          "2023-10-30T00:00:00.000000000",
          "2023-10-31T00:00:00.000000000",
          "2023-11-01T00:00:00.000000000",
          "2023-11-02T00:00:00.000000000",
          "2023-11-03T00:00:00.000000000",
          "2023-11-04T00:00:00.000000000",
          "2023-11-05T00:00:00.000000000",
          "2023-11-06T00:00:00.000000000",
          "2023-11-07T00:00:00.000000000",
          "2023-11-08T00:00:00.000000000",
          "2023-11-09T00:00:00.000000000",
          "2023-11-10T00:00:00.000000000",
          "2023-11-11T00:00:00.000000000",
          "2023-11-12T00:00:00.000000000",
          "2023-11-13T00:00:00.000000000",
          "2023-11-14T00:00:00.000000000",
          "2023-11-15T00:00:00.000000000",
          "2023-11-16T00:00:00.000000000",
          "2023-11-17T00:00:00.000000000",
          "2023-11-18T00:00:00.000000000",
          "2023-11-19T00:00:00.000000000",
          "2023-11-20T00:00:00.000000000",
          "2023-11-21T00:00:00.000000000",
          "2023-11-22T00:00:00.000000000",
          "2023-11-23T00:00:00.000000000",
          "2023-11-24T00:00:00.000000000",
          "2023-11-25T00:00:00.000000000",
          "2023-11-26T00:00:00.000000000",
          "2023-11-27T00:00:00.000000000",
          "2023-11-28T00:00:00.000000000",
          "2023-11-29T00:00:00.000000000",
          "2023-11-30T00:00:00.000000000",
          "2023-12-01T00:00:00.000000000",
          "2023-12-02T00:00:00.000000000",
          "2023-12-03T00:00:00.000000000",
          "2023-12-04T00:00:00.000000000",
          "2023-12-05T00:00:00.000000000",
          "2023-12-06T00:00:00.000000000",
          "2023-12-07T00:00:00.000000000",
          "2023-12-08T00:00:00.000000000",
          "2023-12-09T00:00:00.000000000",
          "2023-12-10T00:00:00.000000000",
          "2023-12-11T00:00:00.000000000",
          "2023-12-12T00:00:00.000000000",
          "2023-12-13T00:00:00.000000000",
          "2023-12-14T00:00:00.000000000",
          "2023-12-15T00:00:00.000000000",
          "2023-12-16T00:00:00.000000000",
          "2023-12-17T00:00:00.000000000",
          "2023-12-18T00:00:00.000000000",
          "2023-12-19T00:00:00.000000000",
          "2023-12-20T00:00:00.000000000",
          "2023-12-21T00:00:00.000000000",
          "2023-12-22T00:00:00.000000000",
          "2023-12-23T00:00:00.000000000",
          "2023-12-24T00:00:00.000000000",
          "2023-12-25T00:00:00.000000000",
          "2023-12-26T00:00:00.000000000",
          "2023-12-27T00:00:00.000000000",
          "2023-12-28T00:00:00.000000000",
          "2023-12-29T00:00:00.000000000",
          "2023-12-30T00:00:00.000000000",
          "2023-12-31T00:00:00.000000000"
         ],
         "y": {
          "bdata": "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",
          "dtype": "f8"
         }
        },
        {
         "mode": "lines",
         "name": "modele",
         "type": "scatter",
         "x": [
          "2023-01-01T00:00:00.000000000",
          "2023-01-02T00:00:00.000000000",
          "2023-01-03T00:00:00.000000000",
          "2023-01-04T00:00:00.000000000",
          "2023-01-05T00:00:00.000000000",
          "2023-01-06T00:00:00.000000000",
          "2023-01-07T00:00:00.000000000",
          "2023-01-08T00:00:00.000000000",
          "2023-01-09T00:00:00.000000000",
          "2023-01-10T00:00:00.000000000",
          "2023-01-11T00:00:00.000000000",
          "2023-01-12T00:00:00.000000000",
          "2023-01-13T00:00:00.000000000",
          "2023-01-14T00:00:00.000000000",
          "2023-01-15T00:00:00.000000000",
          "2023-01-16T00:00:00.000000000",
          "2023-01-17T00:00:00.000000000",
          "2023-01-18T00:00:00.000000000",
          "2023-01-19T00:00:00.000000000",
          "2023-01-20T00:00:00.000000000",
          "2023-01-21T00:00:00.000000000",
          "2023-01-22T00:00:00.000000000",
          "2023-01-23T00:00:00.000000000",
          "2023-01-24T00:00:00.000000000",
          "2023-01-25T00:00:00.000000000",
          "2023-01-26T00:00:00.000000000",
          "2023-01-27T00:00:00.000000000",
          "2023-01-28T00:00:00.000000000",
          "2023-01-29T00:00:00.000000000",
          "2023-01-30T00:00:00.000000000",
          "2023-01-31T00:00:00.000000000",
          "2023-02-01T00:00:00.000000000",
          "2023-02-02T00:00:00.000000000",
          "2023-02-03T00:00:00.000000000",
          "2023-02-04T00:00:00.000000000",
          "2023-02-05T00:00:00.000000000",
          "2023-02-06T00:00:00.000000000",
          "2023-02-07T00:00:00.000000000",
          "2023-02-08T00:00:00.000000000",
          "2023-02-09T00:00:00.000000000",
          "2023-02-10T00:00:00.000000000",
          "2023-02-11T00:00:00.000000000",
          "2023-02-12T00:00:00.000000000",
          "2023-02-13T00:00:00.000000000",
          "2023-02-14T00:00:00.000000000",
          "2023-02-15T00:00:00.000000000",
          "2023-02-16T00:00:00.000000000",
          "2023-02-17T00:00:00.000000000",
          "2023-02-18T00:00:00.000000000",
          "2023-02-19T00:00:00.000000000",
          "2023-02-20T00:00:00.000000000",
          "2023-02-21T00:00:00.000000000",
          "2023-02-22T00:00:00.000000000",
          "2023-02-23T00:00:00.000000000",
          "2023-02-24T00:00:00.000000000",
          "2023-02-25T00:00:00.000000000",
          "2023-02-26T00:00:00.000000000",
          "2023-02-27T00:00:00.000000000",
          "2023-02-28T00:00:00.000000000",
          "2023-03-01T00:00:00.000000000",
          "2023-03-02T00:00:00.000000000",
          "2023-03-03T00:00:00.000000000",
          "2023-03-04T00:00:00.000000000",
          "2023-03-05T00:00:00.000000000",
          "2023-03-06T00:00:00.000000000",
          "2023-03-07T00:00:00.000000000",
          "2023-03-08T00:00:00.000000000",
          "2023-03-09T00:00:00.000000000",
          "2023-03-10T00:00:00.000000000",
          "2023-03-11T00:00:00.000000000",
          "2023-03-12T00:00:00.000000000",
          "2023-03-13T00:00:00.000000000",
          "2023-03-14T00:00:00.000000000",
          "2023-03-15T00:00:00.000000000",
          "2023-03-16T00:00:00.000000000",
          "2023-03-17T00:00:00.000000000",
          "2023-03-18T00:00:00.000000000",
          "2023-03-19T00:00:00.000000000",
          "2023-03-20T00:00:00.000000000",
          "2023-03-21T00:00:00.000000000",
          "2023-03-22T00:00:00.000000000",
          "2023-03-23T00:00:00.000000000",
          "2023-03-24T00:00:00.000000000",
          "2023-03-25T00:00:00.000000000",
          "2023-03-26T00:00:00.000000000",
          "2023-03-27T00:00:00.000000000",
          "2023-03-28T00:00:00.000000000",
          "2023-03-29T00:00:00.000000000",
          "2023-03-30T00:00:00.000000000",
          "2023-03-31T00:00:00.000000000",
          "2023-04-01T00:00:00.000000000",
          "2023-04-02T00:00:00.000000000",
          "2023-04-03T00:00:00.000000000",
          "2023-04-04T00:00:00.000000000",
          "2023-04-05T00:00:00.000000000",
          "2023-04-06T00:00:00.000000000",
          "2023-04-07T00:00:00.000000000",
          "2023-04-08T00:00:00.000000000",
          "2023-04-09T00:00:00.000000000",
          "2023-04-10T00:00:00.000000000",
          "2023-04-11T00:00:00.000000000",
          "2023-04-12T00:00:00.000000000",
          "2023-04-13T00:00:00.000000000",
          "2023-04-14T00:00:00.000000000",
          "2023-04-15T00:00:00.000000000",
          "2023-04-16T00:00:00.000000000",
          "2023-04-17T00:00:00.000000000",
          "2023-04-18T00:00:00.000000000",
          "2023-04-19T00:00:00.000000000",
          "2023-04-20T00:00:00.000000000",
          "2023-04-21T00:00:00.000000000",
          "2023-04-22T00:00:00.000000000",
          "2023-04-23T00:00:00.000000000",
          "2023-04-24T00:00:00.000000000",
          "2023-04-25T00:00:00.000000000",
          "2023-04-26T00:00:00.000000000",
          "2023-04-27T00:00:00.000000000",
          "2023-04-28T00:00:00.000000000",
          "2023-04-29T00:00:00.000000000",
          "2023-04-30T00:00:00.000000000",
          "2023-05-01T00:00:00.000000000",
          "2023-05-02T00:00:00.000000000",
          "2023-05-03T00:00:00.000000000",
          "2023-05-04T00:00:00.000000000",
          "2023-05-05T00:00:00.000000000",
          "2023-05-06T00:00:00.000000000",
          "2023-05-07T00:00:00.000000000",
          "2023-05-08T00:00:00.000000000",
          "2023-05-09T00:00:00.000000000",
          "2023-05-10T00:00:00.000000000",
          "2023-05-11T00:00:00.000000000",
          "2023-05-12T00:00:00.000000000",
          "2023-05-13T00:00:00.000000000",
          "2023-05-14T00:00:00.000000000",
          "2023-05-15T00:00:00.000000000",
          "2023-05-16T00:00:00.000000000",
          "2023-05-17T00:00:00.000000000",
          "2023-05-18T00:00:00.000000000",
          "2023-05-19T00:00:00.000000000",
          "2023-05-20T00:00:00.000000000",
          "2023-05-21T00:00:00.000000000",
          "2023-05-22T00:00:00.000000000",
          "2023-05-23T00:00:00.000000000",
          "2023-05-24T00:00:00.000000000",
          "2023-05-25T00:00:00.000000000",
          "2023-05-26T00:00:00.000000000",
          "2023-05-27T00:00:00.000000000",
          "2023-05-28T00:00:00.000000000",
          "2023-05-29T00:00:00.000000000",
          "2023-05-30T00:00:00.000000000",
          "2023-05-31T00:00:00.000000000",
          "2023-06-01T00:00:00.000000000",
          "2023-06-02T00:00:00.000000000",
          "2023-06-03T00:00:00.000000000",
          "2023-06-04T00:00:00.000000000",
          "2023-06-05T00:00:00.000000000",
          "2023-06-06T00:00:00.000000000",
          "2023-06-07T00:00:00.000000000",
          "2023-06-08T00:00:00.000000000",
          "2023-06-09T00:00:00.000000000",
          "2023-06-10T00:00:00.000000000",
          "2023-06-11T00:00:00.000000000",
          "2023-06-12T00:00:00.000000000",
          "2023-06-13T00:00:00.000000000",
          "2023-06-14T00:00:00.000000000",
          "2023-06-15T00:00:00.000000000",
          "2023-06-16T00:00:00.000000000",
          "2023-06-17T00:00:00.000000000",
          "2023-06-18T00:00:00.000000000",
          "2023-06-19T00:00:00.000000000",
          "2023-06-20T00:00:00.000000000",
          "2023-06-21T00:00:00.000000000",
          "2023-06-22T00:00:00.000000000",
          "2023-06-23T00:00:00.000000000",
          "2023-06-24T00:00:00.000000000",
          "2023-06-25T00:00:00.000000000",
          "2023-06-26T00:00:00.000000000",
          "2023-06-27T00:00:00.000000000",
          "2023-06-28T00:00:00.000000000",
          "2023-06-29T00:00:00.000000000",
          "2023-06-30T00:00:00.000000000",
          "2023-07-01T00:00:00.000000000",
          "2023-07-02T00:00:00.000000000",
          "2023-07-03T00:00:00.000000000",
          "2023-07-04T00:00:00.000000000",
          "2023-07-05T00:00:00.000000000",
          "2023-07-06T00:00:00.000000000",
          "2023-07-07T00:00:00.000000000",
          "2023-07-08T00:00:00.000000000",
          "2023-07-09T00:00:00.000000000",
          "2023-07-10T00:00:00.000000000",
          "2023-07-11T00:00:00.000000000",
          "2023-07-12T00:00:00.000000000",
          "2023-07-13T00:00:00.000000000",
          "2023-07-14T00:00:00.000000000",
          "2023-07-15T00:00:00.000000000",
          "2023-07-16T00:00:00.000000000",
          "2023-07-17T00:00:00.000000000",
          "2023-07-18T00:00:00.000000000",
          "2023-07-19T00:00:00.000000000",
          "2023-07-20T00:00:00.000000000",
          "2023-07-21T00:00:00.000000000",
          "2023-07-22T00:00:00.000000000",
          "2023-07-23T00:00:00.000000000",
          "2023-07-24T00:00:00.000000000",
          "2023-07-25T00:00:00.000000000",
          "2023-07-26T00:00:00.000000000",
          "2023-07-27T00:00:00.000000000",
          "2023-07-28T00:00:00.000000000",
          "2023-07-29T00:00:00.000000000",
          "2023-07-30T00:00:00.000000000",
          "2023-07-31T00:00:00.000000000",
          "2023-08-01T00:00:00.000000000",
          "2023-08-02T00:00:00.000000000",
          "2023-08-03T00:00:00.000000000",
          "2023-08-04T00:00:00.000000000",
          "2023-08-05T00:00:00.000000000",
          "2023-08-06T00:00:00.000000000",
          "2023-08-07T00:00:00.000000000",
          "2023-08-08T00:00:00.000000000",
          "2023-08-09T00:00:00.000000000",
          "2023-08-10T00:00:00.000000000",
          "2023-08-11T00:00:00.000000000",
          "2023-08-12T00:00:00.000000000",
          "2023-08-13T00:00:00.000000000",
          "2023-08-14T00:00:00.000000000",
          "2023-08-15T00:00:00.000000000",
          "2023-08-16T00:00:00.000000000",
          "2023-08-17T00:00:00.000000000",
          "2023-08-18T00:00:00.000000000",
          "2023-08-19T00:00:00.000000000",
          "2023-08-20T00:00:00.000000000",
          "2023-08-21T00:00:00.000000000",
          "2023-08-22T00:00:00.000000000",
          "2023-08-23T00:00:00.000000000",
          "2023-08-24T00:00:00.000000000",
          "2023-08-25T00:00:00.000000000",
          "2023-08-26T00:00:00.000000000",
          "2023-08-27T00:00:00.000000000",
          "2023-08-28T00:00:00.000000000",
          "2023-08-29T00:00:00.000000000",
          "2023-08-30T00:00:00.000000000",
          "2023-08-31T00:00:00.000000000",
          "2023-09-01T00:00:00.000000000",
          "2023-09-02T00:00:00.000000000",
          "2023-09-03T00:00:00.000000000",
          "2023-09-04T00:00:00.000000000",
          "2023-09-05T00:00:00.000000000",
          "2023-09-06T00:00:00.000000000",
          "2023-09-07T00:00:00.000000000",
          "2023-09-08T00:00:00.000000000",
          "2023-09-09T00:00:00.000000000",
          "2023-09-10T00:00:00.000000000",
          "2023-09-11T00:00:00.000000000",
          "2023-09-12T00:00:00.000000000",
          "2023-09-13T00:00:00.000000000",
          "2023-09-14T00:00:00.000000000",
          "2023-09-15T00:00:00.000000000",
          "2023-09-16T00:00:00.000000000",
          "2023-09-17T00:00:00.000000000",
          "2023-09-18T00:00:00.000000000",
          "2023-09-19T00:00:00.000000000",
          "2023-09-20T00:00:00.000000000",
          "2023-09-21T00:00:00.000000000",
          "2023-09-22T00:00:00.000000000",
          "2023-09-23T00:00:00.000000000",
          "2023-09-24T00:00:00.000000000",
          "2023-09-25T00:00:00.000000000",
          "2023-09-26T00:00:00.000000000",
          "2023-09-27T00:00:00.000000000",
          "2023-09-28T00:00:00.000000000",
          "2023-09-29T00:00:00.000000000",
          "2023-09-30T00:00:00.000000000",
          "2023-10-01T00:00:00.000000000",
          "2023-10-02T00:00:00.000000000",
          "2023-10-03T00:00:00.000000000",
          "2023-10-04T00:00:00.000000000",
          "2023-10-05T00:00:00.000000000",
          "2023-10-06T00:00:00.000000000",
          "2023-10-07T00:00:00.000000000",
          "2023-10-08T00:00:00.000000000",
          "2023-10-09T00:00:00.000000000",
          "2023-10-10T00:00:00.000000000",
          "2023-10-11T00:00:00.000000000",
          "2023-10-12T00:00:00.000000000",
          "2023-10-13T00:00:00.000000000",
          "2023-10-14T00:00:00.000000000",
          "2023-10-15T00:00:00.000000000",
          "2023-10-16T00:00:00.000000000",
          "2023-10-17T00:00:00.000000000",
          "2023-10-18T00:00:00.000000000",
          "2023-10-19T00:00:00.000000000",
          "2023-10-20T00:00:00.000000000",
          "2023-10-21T00:00:00.000000000",
          "2023-10-22T00:00:00.000000000",
          "2023-10-23T00:00:00.000000000",
          "2023-10-24T00:00:00.000000000",
          "2023-10-25T00:00:00.000000000",
          "2023-10-26T00:00:00.000000000",
          "2023-10-27T00:00:00.000000000",
          "2023-10-28T00:00:00.000000000",
          "2023-10-29T00:00:00.000000000",
          "2023-10-30T00:00:00.000000000",
          "2023-10-31T00:00:00.000000000",
          "2023-11-01T00:00:00.000000000",
          "2023-11-02T00:00:00.000000000",
          "2023-11-03T00:00:00.000000000",
          "2023-11-04T00:00:00.000000000",
          "2023-11-05T00:00:00.000000000",
          "2023-11-06T00:00:00.000000000",
          "2023-11-07T00:00:00.000000000",
          "2023-11-08T00:00:00.000000000",
          "2023-11-09T00:00:00.000000000",
          "2023-11-10T00:00:00.000000000",
          "2023-11-11T00:00:00.000000000",
          "2023-11-12T00:00:00.000000000",
          "2023-11-13T00:00:00.000000000",
          "2023-11-14T00:00:00.000000000",
          "2023-11-15T00:00:00.000000000",
          "2023-11-16T00:00:00.000000000",
          "2023-11-17T00:00:00.000000000",
          "2023-11-18T00:00:00.000000000",
          "2023-11-19T00:00:00.000000000",
          "2023-11-20T00:00:00.000000000",
          "2023-11-21T00:00:00.000000000",
          "2023-11-22T00:00:00.000000000",
          "2023-11-23T00:00:00.000000000",
          "2023-11-24T00:00:00.000000000",
          "2023-11-25T00:00:00.000000000",
          "2023-11-26T00:00:00.000000000",
          "2023-11-27T00:00:00.000000000",
          "2023-11-28T00:00:00.000000000",
          "2023-11-29T00:00:00.000000000",
          "2023-11-30T00:00:00.000000000",
          "2023-12-01T00:00:00.000000000",
          "2023-12-02T00:00:00.000000000",
          "2023-12-03T00:00:00.000000000",
          "2023-12-04T00:00:00.000000000",
          "2023-12-05T00:00:00.000000000",
          "2023-12-06T00:00:00.000000000",
          "2023-12-07T00:00:00.000000000",
          "2023-12-08T00:00:00.000000000",
          "2023-12-09T00:00:00.000000000",
          "2023-12-10T00:00:00.000000000",
          "2023-12-11T00:00:00.000000000",
          "2023-12-12T00:00:00.000000000",
          "2023-12-13T00:00:00.000000000",
          "2023-12-14T00:00:00.000000000",
          "2023-12-15T00:00:00.000000000",
          "2023-12-16T00:00:00.000000000",
          "2023-12-17T00:00:00.000000000",
          "2023-12-18T00:00:00.000000000",
          "2023-12-19T00:00:00.000000000",
          "2023-12-20T00:00:00.000000000",
          "2023-12-21T00:00:00.000000000",
          "2023-12-22T00:00:00.000000000",
          "2023-12-23T00:00:00.000000000",
          "2023-12-24T00:00:00.000000000",
          "2023-12-25T00:00:00.000000000",
          "2023-12-26T00:00:00.000000000",
          "2023-12-27T00:00:00.000000000",
          "2023-12-28T00:00:00.000000000",
          "2023-12-29T00:00:00.000000000",
          "2023-12-30T00:00:00.000000000",
          "2023-12-31T00:00:00.000000000"
         ],
         "y": {
          "bdata": "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",
          "dtype": "f8"
         }
        }
       ],
       "layout": {
        "hovermode": "x unified",
        "template": {
         "data": {
          "bar": [
           {
            "error_x": {
             "color": "#2a3f5f"
            },
            "error_y": {
             "color": "#2a3f5f"
            },
            "marker": {
             "line": {
              "color": "#E5ECF6",
              "width": 0.5
             },
             "pattern": {
              "fillmode": "overlay",
              "size": 10,
              "solidity": 0.2
             }
            },
            "type": "bar"
           }
          ],
          "barpolar": [
           {
            "marker": {
             "line": {
              "color": "#E5ECF6",
              "width": 0.5
             },
             "pattern": {
              "fillmode": "overlay",
              "size": 10,
              "solidity": 0.2
             }
            },
            "type": "barpolar"
           }
          ],
          "carpet": [
           {
            "aaxis": {
             "endlinecolor": "#2a3f5f",
             "gridcolor": "white",
             "linecolor": "white",
             "minorgridcolor": "white",
             "startlinecolor": "#2a3f5f"
            },
            "baxis": {
             "endlinecolor": "#2a3f5f",
             "gridcolor": "white",
             "linecolor": "white",
             "minorgridcolor": "white",
             "startlinecolor": "#2a3f5f"
            },
            "type": "carpet"
           }
          ],
          "choropleth": [
           {
            "colorbar": {
             "outlinewidth": 0,
             "ticks": ""
            },
            "type": "choropleth"
           }
          ],
          "contour": [
           {
            "colorbar": {
             "outlinewidth": 0,
             "ticks": ""
            },
            "colorscale": [
             [
              0,
              "#0d0887"
             ],
             [
              0.1111111111111111,
              "#46039f"
             ],
             [
              0.2222222222222222,
              "#7201a8"
             ],
             [
              0.3333333333333333,
              "#9c179e"
             ],
             [
              0.4444444444444444,
              "#bd3786"
             ],
             [
              0.5555555555555556,
              "#d8576b"
             ],
             [
              0.6666666666666666,
              "#ed7953"
             ],
             [
              0.7777777777777778,
              "#fb9f3a"
             ],
             [
              0.8888888888888888,
              "#fdca26"
             ],
             [
              1,
              "#f0f921"
             ]
            ],
            "type": "contour"
           }
          ],
          "contourcarpet": [
           {
            "colorbar": {
             "outlinewidth": 0,
             "ticks": ""
            },
            "type": "contourcarpet"
           }
          ],
          "heatmap": [
           {
            "colorbar": {
             "outlinewidth": 0,
             "ticks": ""
            },
            "colorscale": [
             [
              0,
              "#0d0887"
             ],
             [
              0.1111111111111111,
              "#46039f"
             ],
             [
              0.2222222222222222,
              "#7201a8"
             ],
             [
              0.3333333333333333,
              "#9c179e"
             ],
             [
              0.4444444444444444,
              "#bd3786"
             ],
             [
              0.5555555555555556,
              "#d8576b"
             ],
             [
              0.6666666666666666,
              "#ed7953"
             ],
             [
              0.7777777777777778,
              "#fb9f3a"
             ],
             [
              0.8888888888888888,
              "#fdca26"
             ],
             [
              1,
              "#f0f921"
             ]
            ],
            "type": "heatmap"
           }
          ],
          "histogram": [
           {
            "marker": {
             "pattern": {
              "fillmode": "overlay",
              "size": 10,
              "solidity": 0.2
             }
            },
            "type": "histogram"
           }
          ],
          "histogram2d": [
           {
            "colorbar": {
             "outlinewidth": 0,
             "ticks": ""
            },
            "colorscale": [
             [
              0,
              "#0d0887"
             ],
             [
              0.1111111111111111,
              "#46039f"
             ],
             [
              0.2222222222222222,
              "#7201a8"
             ],
             [
              0.3333333333333333,
              "#9c179e"
             ],
             [
              0.4444444444444444,
              "#bd3786"
             ],
             [
              0.5555555555555556,
              "#d8576b"
             ],
             [
              0.6666666666666666,
              "#ed7953"
             ],
             [
              0.7777777777777778,
              "#fb9f3a"
             ],
             [
              0.8888888888888888,
              "#fdca26"
             ],
             [
              1,
              "#f0f921"
             ]
            ],
            "type": "histogram2d"
           }
          ],
          "histogram2dcontour": [
           {
            "colorbar": {
             "outlinewidth": 0,
             "ticks": ""
            },
            "colorscale": [
             [
              0,
              "#0d0887"
             ],
             [
              0.1111111111111111,
              "#46039f"
             ],
             [
              0.2222222222222222,
              "#7201a8"
             ],
             [
              0.3333333333333333,
              "#9c179e"
             ],
             [
              0.4444444444444444,
              "#bd3786"
             ],
             [
              0.5555555555555556,
              "#d8576b"
             ],
             [
              0.6666666666666666,
              "#ed7953"
             ],
             [
              0.7777777777777778,
              "#fb9f3a"
             ],
             [
              0.8888888888888888,
              "#fdca26"
             ],
             [
              1,
              "#f0f921"
             ]
            ],
            "type": "histogram2dcontour"
           }
          ],
          "mesh3d": [
           {
            "colorbar": {
             "outlinewidth": 0,
             "ticks": ""
            },
            "type": "mesh3d"
           }
          ],
          "parcoords": [
           {
            "line": {
             "colorbar": {
              "outlinewidth": 0,
              "ticks": ""
             }
            },
            "type": "parcoords"
           }
          ],
          "pie": [
           {
            "automargin": true,
            "type": "pie"
           }
          ],
          "scatter": [
           {
            "fillpattern": {
             "fillmode": "overlay",
             "size": 10,
             "solidity": 0.2
            },
            "type": "scatter"
           }
          ],
          "scatter3d": [
           {
            "line": {
             "colorbar": {
              "outlinewidth": 0,
              "ticks": ""
             }
            },
            "marker": {
             "colorbar": {
              "outlinewidth": 0,
              "ticks": ""
             }
            },
            "type": "scatter3d"
           }
          ],
          "scattercarpet": [
           {
            "marker": {
             "colorbar": {
              "outlinewidth": 0,
              "ticks": ""
             }
            },
            "type": "scattercarpet"
           }
          ],
          "scattergeo": [
           {
            "marker": {
             "colorbar": {
              "outlinewidth": 0,
              "ticks": ""
             }
            },
            "type": "scattergeo"
           }
          ],
          "scattergl": [
           {
            "marker": {
             "colorbar": {
              "outlinewidth": 0,
              "ticks": ""
             }
            },
            "type": "scattergl"
           }
          ],
          "scattermap": [
           {
            "marker": {
             "colorbar": {
              "outlinewidth": 0,
              "ticks": ""
             }
            },
            "type": "scattermap"
           }
          ],
          "scattermapbox": [
           {
            "marker": {
             "colorbar": {
              "outlinewidth": 0,
              "ticks": ""
             }
            },
            "type": "scattermapbox"
           }
          ],
          "scatterpolar": [
           {
            "marker": {
             "colorbar": {
              "outlinewidth": 0,
              "ticks": ""
             }
            },
            "type": "scatterpolar"
           }
          ],
          "scatterpolargl": [
           {
            "marker": {
             "colorbar": {
              "outlinewidth": 0,
              "ticks": ""
             }
            },
            "type": "scatterpolargl"
           }
          ],
          "scatterternary": [
           {
            "marker": {
             "colorbar": {
              "outlinewidth": 0,
              "ticks": ""
             }
            },
            "type": "scatterternary"
           }
          ],
          "surface": [
           {
            "colorbar": {
             "outlinewidth": 0,
             "ticks": ""
            },
            "colorscale": [
             [
              0,
              "#0d0887"
             ],
             [
              0.1111111111111111,
              "#46039f"
             ],
             [
              0.2222222222222222,
              "#7201a8"
             ],
             [
              0.3333333333333333,
              "#9c179e"
             ],
             [
              0.4444444444444444,
              "#bd3786"
             ],
             [
              0.5555555555555556,
              "#d8576b"
             ],
             [
              0.6666666666666666,
              "#ed7953"
             ],
             [
              0.7777777777777778,
              "#fb9f3a"
             ],
             [
              0.8888888888888888,
              "#fdca26"
             ],
             [
              1,
              "#f0f921"
             ]
            ],
            "type": "surface"
           }
          ],
          "table": [
           {
            "cells": {
             "fill": {
              "color": "#EBF0F8"
             },
             "line": {
              "color": "white"
             }
            },
            "header": {
             "fill": {
              "color": "#C8D4E3"
             },
             "line": {
              "color": "white"
             }
            },
            "type": "table"
           }
          ]
         },
         "layout": {
          "annotationdefaults": {
           "arrowcolor": "#2a3f5f",
           "arrowhead": 0,
           "arrowwidth": 1
          },
          "autotypenumbers": "strict",
          "coloraxis": {
           "colorbar": {
            "outlinewidth": 0,
            "ticks": ""
           }
          },
          "colorscale": {
           "diverging": [
            [
             0,
             "#8e0152"
            ],
            [
             0.1,
             "#c51b7d"
            ],
            [
             0.2,
             "#de77ae"
            ],
            [
             0.3,
             "#f1b6da"
            ],
            [
             0.4,
             "#fde0ef"
            ],
            [
             0.5,
             "#f7f7f7"
            ],
            [
             0.6,
             "#e6f5d0"
            ],
            [
             0.7,
             "#b8e186"
            ],
            [
             0.8,
             "#7fbc41"
            ],
            [
             0.9,
             "#4d9221"
            ],
            [
             1,
             "#276419"
            ]
           ],
           "sequential": [
            [
             0,
             "#0d0887"
            ],
            [
             0.1111111111111111,
             "#46039f"
            ],
            [
             0.2222222222222222,
             "#7201a8"
            ],
            [
             0.3333333333333333,
             "#9c179e"
            ],
            [
             0.4444444444444444,
             "#bd3786"
            ],
            [
             0.5555555555555556,
             "#d8576b"
            ],
            [
             0.6666666666666666,
             "#ed7953"
            ],
            [
             0.7777777777777778,
             "#fb9f3a"
            ],
            [
             0.8888888888888888,
             "#fdca26"
            ],
            [
             1,
             "#f0f921"
            ]
           ],
           "sequentialminus": [
            [
             0,
             "#0d0887"
            ],
            [
             0.1111111111111111,
             "#46039f"
            ],
            [
             0.2222222222222222,
             "#7201a8"
            ],
            [
             0.3333333333333333,
             "#9c179e"
            ],
            [
             0.4444444444444444,
             "#bd3786"
            ],
            [
             0.5555555555555556,
             "#d8576b"
            ],
            [
             0.6666666666666666,
             "#ed7953"
            ],
            [
             0.7777777777777778,
             "#fb9f3a"
            ],
            [
             0.8888888888888888,
             "#fdca26"
            ],
            [
             1,
             "#f0f921"
            ]
           ]
          },
          "colorway": [
           "#636efa",
           "#EF553B",
           "#00cc96",
           "#ab63fa",
           "#FFA15A",
           "#19d3f3",
           "#FF6692",
           "#B6E880",
           "#FF97FF",
           "#FECB52"
          ],
          "font": {
           "color": "#2a3f5f"
          },
          "geo": {
           "bgcolor": "white",
           "lakecolor": "white",
           "landcolor": "#E5ECF6",
           "showlakes": true,
           "showland": true,
           "subunitcolor": "white"
          },
          "hoverlabel": {
           "align": "left"
          },
          "hovermode": "closest",
          "mapbox": {
           "style": "light"
          },
          "paper_bgcolor": "white",
          "plot_bgcolor": "#E5ECF6",
          "polar": {
           "angularaxis": {
            "gridcolor": "white",
            "linecolor": "white",
            "ticks": ""
           },
           "bgcolor": "#E5ECF6",
           "radialaxis": {
            "gridcolor": "white",
            "linecolor": "white",
            "ticks": ""
           }
          },
          "scene": {
           "xaxis": {
            "backgroundcolor": "#E5ECF6",
            "gridcolor": "white",
            "gridwidth": 2,
            "linecolor": "white",
            "showbackground": true,
            "ticks": "",
            "zerolinecolor": "white"
           },
           "yaxis": {
            "backgroundcolor": "#E5ECF6",
            "gridcolor": "white",
            "gridwidth": 2,
            "linecolor": "white",
            "showbackground": true,
            "ticks": "",
            "zerolinecolor": "white"
           },
           "zaxis": {
            "backgroundcolor": "#E5ECF6",
            "gridcolor": "white",
            "gridwidth": 2,
            "linecolor": "white",
            "showbackground": true,
            "ticks": "",
            "zerolinecolor": "white"
           }
          },
          "shapedefaults": {
           "line": {
            "color": "#2a3f5f"
           }
          },
          "ternary": {
           "aaxis": {
            "gridcolor": "white",
            "linecolor": "white",
            "ticks": ""
           },
           "baxis": {
            "gridcolor": "white",
            "linecolor": "white",
            "ticks": ""
           },
           "bgcolor": "#E5ECF6",
           "caxis": {
            "gridcolor": "white",
            "linecolor": "white",
            "ticks": ""
           }
          },
          "title": {
           "x": 0.05
          },
          "xaxis": {
           "automargin": true,
           "gridcolor": "white",
           "linecolor": "white",
           "ticks": "",
           "title": {
            "standoff": 15
           },
           "zerolinecolor": "white",
           "zerolinewidth": 2
          },
          "yaxis": {
           "automargin": true,
           "gridcolor": "white",
           "linecolor": "white",
           "ticks": "",
           "title": {
            "standoff": 15
           },
           "zerolinecolor": "white",
           "zerolinewidth": 2
          }
         }
        },
        "title": {
         "text": "Évolution des colonnes temporelles"
        },
        "xaxis": {
         "title": {
          "text": "Date"
         }
        },
        "yaxis": {
         "title": {
          "text": "Valeurs"
         }
        }
       }
      }
     },
     "metadata": {},
     "output_type": "display_data"
    }
   ],
   "source": [
    "import plotly.graph_objects as go\n",
    "\n",
    "fig = go.Figure()\n",
    "\n",
    "\n",
    "fig.add_trace(go.Scatter(\n",
    "    x=x.index,\n",
    "    y=y,\n",
    "    mode='lines',\n",
    "    name=\"mesure\"  # nom affiché dans la légende\n",
    "))\n",
    "\n",
    "\n",
    "fig.add_trace(go.Scatter(\n",
    "    x=x.index,\n",
    "    y=model.predict(x),\n",
    "    mode='lines',\n",
    "    name=\"modele\"  # nom affiché dans la légende\n",
    "))\n",
    "\n",
    "fig.update_layout(\n",
    "    title=\"Évolution des colonnes temporelles\",\n",
    "    xaxis_title=\"Date\",\n",
    "    yaxis_title=\"Valeurs\",\n",
    "    hovermode=\"x unified\"\n",
    ")\n",
    "\n",
    "fig.show()"
   ]
  },
  {
   "cell_type": "markdown",
   "id": "863b5649",
   "metadata": {},
   "source": [
    "## Modèle Mois Elec"
   ]
  },
  {
   "cell_type": "code",
   "execution_count": 121,
   "id": "2af86259",
   "metadata": {},
   "outputs": [
    {
     "name": "stdout",
     "output_type": "stream",
     "text": [
      "source de données inconnue\n",
      "0.8258757334221482\n",
      "Prediction: 1428.316\n",
      "IC 95%: [1325.325, 1531.307]\n"
     ]
    },
    {
     "data": {
      "text/plain": [
       "['../ml_models/model-elec-mois.joblib']"
      ]
     },
     "execution_count": 121,
     "metadata": {},
     "output_type": "execute_result"
    }
   ],
   "source": [
    "from sklearn.metrics import r2_score\n",
    "import numpy as np\n",
    "import pandas as pd\n",
    "from sklearn.linear_model import LinearRegression\n",
    "from scipy import stats\n",
    "from joblib import dump\n",
    "\n",
    "debut = \"2022-01-01\"\n",
    "fin   = \"2023-12-31\"\n",
    "data_occup_jour  = getdata.get_data(source = \"occup_jour\")\n",
    "data_elec_jour   = getdata.get_data(source = \"elec_jour\")\n",
    "data_gaz_jour    = getdata.get_data(source = \"gaz_jour\")\n",
    "data_meteo_jour  = getdata.get_data(source = \"meteo_jour\")\n",
    "\n",
    "data_occup_jour  = data_occup_jour [(data_occup_jour .index>=debut) & (data_occup_jour.index<=fin)]\n",
    "data_elec_jour   = data_elec_jour[(data_elec_jour.index>=debut) & (data_elec_jour.index<=fin)]\n",
    "data_meteo_jour  = data_meteo_jour[(data_meteo_jour.index>=debut) & (data_meteo_jour.index<=fin)]\n",
    "\n",
    "data_occup_jour['presence'] = data_occup_jour['presence'].apply(lambda o: 1.0 if o==\"oui\" else 0.0)\n",
    "T_moyenne = (data_meteo_jour['temperature_2m_min'] + data_meteo_jour['temperature_2m_max']) / 2\n",
    "data_meteo_jour = data_meteo_jour.assign(DJU=lambda x: (18.0 - T_moyenne).clip(lower=0))\n",
    "\n",
    "data_model  = pd.concat([data_elec_jour['value'],data_meteo_jour['DJU'],data_occup_jour['presence']], axis=1)\n",
    "\n",
    "\n",
    "data_model_mois = data_model.resample('MS').sum()\n",
    "\n",
    "data_model_mois['presence'] = 100*data_model_mois['presence']/data_model.resample(\"MS\").size()\n",
    "\n",
    "model = LinearRegression()\n",
    "x = data_model_mois[['DJU','presence']]\n",
    "y = data_model_mois['value']\n",
    "model.fit(X=x,y=y)\n",
    "\n",
    "print(r2_score(y,model.predict(x) ))\n",
    "\n",
    "\n",
    "y_pred = model.predict(x)\n",
    "\n",
    "# Calcul de la variance résiduelle\n",
    "n, p = x.shape\n",
    "residuals = y - y_pred\n",
    "sigma2 = np.sum(residuals**2) / (n - p - 1)\n",
    "\n",
    "# Matrice avec constante\n",
    "X_design = np.column_stack([np.ones(n), x])\n",
    "XtX_inv = np.linalg.inv(X_design.T @ X_design)\n",
    "\n",
    "# Ajout d'une constante pour l'intercept\n",
    "X_design = np.column_stack([np.ones(n), x])\n",
    "# Nouveau point à prédire\n",
    "x0 = np.array([1, 350, 95.0])  # <-- constante + valeurs\n",
    "y0_pred = model.predict(pd.DataFrame([{\"DJU\": 350, \"presence\": 95.0}]))[0]\n",
    "\n",
    "# Erreur standard de la prédiction\n",
    "se_y0 = np.sqrt(sigma2 * (x0.T @ XtX_inv @ x0))\n",
    "\n",
    "# Intervalle de confiance 95 %\n",
    "t_val = stats.t.ppf(1 - 0.025, df=n - p - 1)\n",
    "ci_lower = y0_pred - t_val * se_y0\n",
    "ci_upper = y0_pred + t_val * se_y0\n",
    "\n",
    "print(f\"Prediction: {y0_pred:.3f}\")\n",
    "print(f\"IC 95%: [{ci_lower:.3f}, {ci_upper:.3f}]\")\n",
    "\n",
    "\n",
    "frequence = \"mois\"\n",
    "energie   = \"elec\"\n",
    "model_name = f\"model-{energie}-{frequence}.joblib\"\n",
    "\n",
    "model_config = {\n",
    "    \"model\": model,\n",
    "    \"x_train\": x,\n",
    "    \"t_val\": t_val,\n",
    "    \"XtX_inv\": XtX_inv,\n",
    "    \"sigma2 \":sigma2 \n",
    "}\n",
    "\n",
    "dump(model_config,\"../ml_models/\"+model_name)\n",
    "\n",
    "\n",
    "\n",
    "\n",
    "\n",
    "\n",
    "\n",
    "\n"
   ]
  },
  {
   "cell_type": "code",
   "execution_count": 125,
   "id": "f0258921",
   "metadata": {},
   "outputs": [
    {
     "name": "stdout",
     "output_type": "stream",
     "text": [
      "source de données inconnue\n",
      "0.9328661570446269\n",
      "Prediction: 3012.512\n",
      "IC 95%: [2624.872, 3400.153]\n"
     ]
    },
    {
     "data": {
      "text/plain": [
       "['../ml_models/model-gaz-mois.joblib']"
      ]
     },
     "execution_count": 125,
     "metadata": {},
     "output_type": "execute_result"
    }
   ],
   "source": [
    "from sklearn.metrics import r2_score\n",
    "import numpy as np\n",
    "import pandas as pd\n",
    "from sklearn.linear_model import LinearRegression\n",
    "from scipy import stats\n",
    "from joblib import dump\n",
    "\n",
    "debut = \"2022-11-01\"\n",
    "fin   = \"2023-12-31\"\n",
    "data_occup_jour  = getdata.get_data(source = \"occup_jour\")\n",
    "data_gaz_jour    = getdata.get_data(source = \"gaz_jour\")\n",
    "data_meteo_jour  = getdata.get_data(source = \"meteo_jour\")\n",
    "\n",
    "data_occup_jour  = data_occup_jour [(data_occup_jour .index>=debut) & (data_occup_jour.index<=fin)]\n",
    "data_meteo_jour  = data_meteo_jour[(data_meteo_jour.index>=debut) & (data_meteo_jour.index<=fin)]\n",
    "data_gaz_jour    = data_gaz_jour[(data_gaz_jour.index>=debut) & (data_gaz_jour.index<=fin)]\n",
    "\n",
    "data_occup_jour['presence'] = data_occup_jour['presence'].apply(lambda o: 1.0 if o==\"oui\" else 0.0)\n",
    "T_moyenne = (data_meteo_jour['temperature_2m_min'] + data_meteo_jour['temperature_2m_max']) / 2\n",
    "data_meteo_jour = data_meteo_jour.assign(DJU=lambda x: (18.0 - T_moyenne).clip(lower=0))\n",
    "\n",
    "data_model  = pd.concat([data_gaz_jour['energie'],data_meteo_jour['DJU'],data_occup_jour['presence']], axis=1)\n",
    "\n",
    "\n",
    "data_model_mois = data_model.resample('MS').sum()\n",
    "\n",
    "data_model_mois['presence'] = 100*data_model_mois['presence']/data_model.resample(\"MS\").size()\n",
    "\n",
    "model = LinearRegression()\n",
    "x = data_model_mois[['DJU','presence']]\n",
    "y = data_model_mois['energie']\n",
    "model.fit(X=x,y=y)\n",
    "\n",
    "print(r2_score(y,model.predict(x) ))\n",
    "\n",
    "\n",
    "y_pred = model.predict(x)\n",
    "\n",
    "# Calcul de la variance résiduelle\n",
    "n, p = x.shape\n",
    "residuals = y - y_pred\n",
    "sigma2 = np.sum(residuals**2) / (n - p - 1)\n",
    "\n",
    "# Matrice avec constante\n",
    "X_design = np.column_stack([np.ones(n), x])\n",
    "XtX_inv = np.linalg.inv(X_design.T @ X_design)\n",
    "\n",
    "# Ajout d'une constante pour l'intercept\n",
    "X_design = np.column_stack([np.ones(n), x])\n",
    "# Nouveau point à prédire\n",
    "x0 = np.array([1, 350, 95.0])  # <-- constante + valeurs\n",
    "y0_pred = model.predict(pd.DataFrame([{\"DJU\": 350, \"presence\": 95.0}]))[0]\n",
    "\n",
    "# Erreur standard de la prédiction\n",
    "se_y0 = np.sqrt(sigma2 * (x0.T @ XtX_inv @ x0))\n",
    "\n",
    "# Intervalle de confiance 95 %\n",
    "t_val = stats.t.ppf(1 - 0.025, df=n - p - 1)\n",
    "ci_lower = y0_pred - t_val * se_y0\n",
    "ci_upper = y0_pred + t_val * se_y0\n",
    "\n",
    "print(f\"Prediction: {y0_pred:.3f}\")\n",
    "print(f\"IC 95%: [{ci_lower:.3f}, {ci_upper:.3f}]\")\n",
    "\n",
    "\n",
    "frequence = \"mois\"\n",
    "energie   = \"gaz\"\n",
    "model_name = f\"model-{energie}-{frequence}.joblib\"\n",
    "\n",
    "model_config = {\n",
    "    \"model\": model,\n",
    "    \"x_train\": x,\n",
    "    \"t_val\": t_val,\n",
    "    \"XtX_inv\": XtX_inv,\n",
    "    \"sigma2 \":sigma2 \n",
    "}\n",
    "\n",
    "dump(model_config,\"../ml_models/\"+model_name)"
   ]
  },
  {
   "cell_type": "code",
   "execution_count": null,
   "id": "e6f16185",
   "metadata": {},
   "outputs": [],
   "source": []
  },
  {
   "cell_type": "code",
   "execution_count": 3,
   "id": "e96ca458",
   "metadata": {},
   "outputs": [],
   "source": [
    "from joblib import load\n",
    "model_obj = load(\"../ml_models/model-elec-mois.joblib\")"
   ]
  },
  {
   "cell_type": "code",
   "execution_count": 4,
   "id": "43672f93",
   "metadata": {},
   "outputs": [],
   "source": [
    "import getdata\n",
    "#from modelisation.predict import predict_conso\n",
    "from joblib import load\n",
    "\n",
    "\n",
    "# Chargement des données stockées dans PostGres\n",
    "\n",
    "\n",
    "data_elec_heure = getdata.get_data(source = \"elec_hour\")\n",
    "data_elec_jour  = getdata.get_data(source = \"elec_jour\")\n",
    "data_gaz_jour   = getdata.get_data(source = \"gaz_jour\")\n",
    "data_meteo_jour = getdata.get_data(source = \"meteo_jour\")\n",
    "data_occup_jour = getdata.get_data(source = \"occup_jour\")\n",
    "\n",
    "data_elec_mois  = data_elec_jour['value'].resample(\"MS\").sum()\n",
    "data_gaz_mois   = data_gaz_jour['energie'].resample(\"MS\").sum()\n",
    "\n",
    "data_occup_jour['presence'] = data_occup_jour['presence'].apply(lambda o: 1.0 if o==\"oui\" else 0.0)\n",
    "\n",
    "\n",
    "T_moyenne = (data_meteo_jour['temperature_2m_min'] + data_meteo_jour['temperature_2m_max']) / 2\n",
    "data_meteo_jour = data_meteo_jour.assign(DJU=lambda x: (18.0 - T_moyenne).clip(lower=0))\n",
    "\n",
    "data_occup_mois             = 100*data_occup_jour['presence'].resample(\"MS\").sum()/data_occup_jour.resample(\"MS\").size()\n",
    "data_dju_mois = data_meteo_jour['DJU'].resample('MS').sum()"
   ]
  },
  {
   "cell_type": "code",
   "execution_count": 29,
   "id": "292498b6",
   "metadata": {},
   "outputs": [],
   "source": [
    "data_occup_mois.name = 'presence'\n",
    "data_model_mois = pd.concat([data_elec_mois,data_dju_mois,data_occup_mois], axis=1)\n",
    "data_model_mois.dropna(inplace=True)\n",
    "features_name = model_obj['x_train'].columns\n",
    "df_X = data_model_mois[features_name]\n",
    "\n",
    "\n",
    "date_debut = model_obj['x_train'].index[0]\n",
    "df_X = df_X[df_X.index>=date_debut]\n",
    "y_pred = model_obj['model'].predict(df_X)\n",
    "modele_elec_mois = pd.Series(index=df_X.index,data = y0_pred)"
   ]
  },
  {
   "cell_type": "code",
   "execution_count": 38,
   "id": "6005143d",
   "metadata": {},
   "outputs": [
    {
     "data": {
      "text/plain": [
       "dict_keys(['model', 'x_train', 't_val', 'XtX_inv', 'sigma2 '])"
      ]
     },
     "execution_count": 38,
     "metadata": {},
     "output_type": "execute_result"
    }
   ],
   "source": [
    "model_obj.keys()"
   ]
  },
  {
   "cell_type": "code",
   "execution_count": 14,
   "id": "7ec4d4a6",
   "metadata": {},
   "outputs": [],
   "source": [
    "sigma2 = model_obj['sigma2 ']\n",
    "XtX_inv = model_obj['XtX_inv']\n",
    "t_val = model_obj['t_val']"
   ]
  },
  {
   "cell_type": "code",
   "execution_count": 30,
   "id": "81375564",
   "metadata": {},
   "outputs": [],
   "source": [
    "import numpy as np\n",
    "# facteur d'incertitude pour chaque prédiction\n",
    "\n",
    "X = df_X.values  # matrice des features\n",
    "X_design = np.hstack([np.ones((n, 1)), X])"
   ]
  },
  {
   "cell_type": "code",
   "execution_count": 27,
   "id": "ca968bc1",
   "metadata": {},
   "outputs": [
    {
     "name": "stderr",
     "output_type": "stream",
     "text": [
      "C:\\Users\\David\\AppData\\Local\\Temp\\ipykernel_15712\\618556624.py:2: RuntimeWarning: invalid value encountered in sqrt\n",
      "  se_y0 = np.sqrt(sigma2 * (x0.T @ XtX_inv @ x0))\n"
     ]
    }
   ],
   "source": [
    "# Erreur standard de la prédiction\n",
    "se_y0 = np.sqrt(sigma2 * (x0.T @ XtX_inv @ x0))"
   ]
  },
  {
   "cell_type": "code",
   "execution_count": 31,
   "id": "a9f924b4",
   "metadata": {},
   "outputs": [],
   "source": [
    "pred_var = np.sum(X_design @ XtX_inv * X_design, axis=1)"
   ]
  },
  {
   "cell_type": "code",
   "execution_count": 33,
   "id": "a086f0dc",
   "metadata": {},
   "outputs": [],
   "source": [
    "interval = t_val * np.sqrt(sigma2 * (1 + pred_var))"
   ]
  },
  {
   "cell_type": "code",
   "execution_count": 34,
   "id": "7d7fef07",
   "metadata": {},
   "outputs": [
    {
     "data": {
      "text/plain": [
       "array([328.40313684, 323.73248857, 314.51201909, 313.04285396,\n",
       "       317.60227681, 325.74549287, 373.40310071, 340.50119704,\n",
       "       319.23959196, 318.97487665, 313.42923013, 327.5263272 ,\n",
       "       323.72499003, 319.4345411 , 315.43581084, 313.72583454,\n",
       "       315.49323666, 329.48623161, 321.05075836, 335.19914001,\n",
       "       326.94143429, 316.56386253, 314.20528079, 317.87472489,\n",
       "       332.53533866, 314.12466397, 314.71724823, 312.85977572,\n",
       "       315.72597336, 318.95013604, 335.07221617, 381.60766988,\n",
       "       319.16257841, 314.51257408, 315.104113  , 322.91469061,\n",
       "       333.541506  , 322.94908442, 316.742598  , 313.40669842,\n",
       "       317.04810606, 326.74483755, 328.88344048, 345.82128293,\n",
       "       317.60115673, 316.06395435])"
      ]
     },
     "execution_count": 34,
     "metadata": {},
     "output_type": "execute_result"
    }
   ],
   "source": [
    "interval"
   ]
  },
  {
   "cell_type": "code",
   "execution_count": null,
   "id": "0a2a4905",
   "metadata": {},
   "outputs": [],
   "source": [
    "\n",
    "# Calcul de la variance résiduelle\n",
    "n, p = x.shape\n",
    "residuals = y - y_pred\n",
    "sigma2 = np.sum(residuals**2) / (n - p - 1)\n",
    "\n",
    "# Matrice avec constante\n",
    "X_design = np.column_stack([np.ones(n), x])\n",
    "XtX_inv = np.linalg.inv(X_design.T @ X_design)\n",
    "\n",
    "# Ajout d'une constante pour l'intercept\n",
    "X_design = np.column_stack([np.ones(n), x])\n",
    "# Nouveau point à prédire\n",
    "x0 = np.array([1, 350, 95.0])  # <-- constante + valeurs\n",
    "y0_pred = model.predict(pd.DataFrame([{\"DJU\": 350, \"presence\": 95.0}]))[0]\n",
    "\n",
    "# Erreur standard de la prédiction\n",
    "se_y0 = np.sqrt(sigma2 * (x0.T @ XtX_inv @ x0))\n",
    "\n",
    "# Intervalle de confiance 95 %\n",
    "t_val = stats.t.ppf(1 - 0.025, df=n - p - 1)\n",
    "ci_lower = y0_pred - t_val * se_y0\n",
    "ci_upper = y0_pred + t_val * se_y0"
   ]
  }
 ],
 "metadata": {
  "kernelspec": {
   "display_name": "env",
   "language": "python",
   "name": "python3"
  },
  "language_info": {
   "codemirror_mode": {
    "name": "ipython",
    "version": 3
   },
   "file_extension": ".py",
   "mimetype": "text/x-python",
   "name": "python",
   "nbconvert_exporter": "python",
   "pygments_lexer": "ipython3",
   "version": "3.10.11"
  }
 },
 "nbformat": 4,
 "nbformat_minor": 5
}
