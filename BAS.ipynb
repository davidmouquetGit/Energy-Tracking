{
 "cells": [
  {
   "cell_type": "code",
   "execution_count": null,
   "id": "a4f8023b",
   "metadata": {},
   "outputs": [],
   "source": [
    "from gestionbdd.getdata import get_data\n",
    "\n",
    "\n",
    "\n",
    "\n",
    "global_page = st.Page(\"pages/page0_Global.py\", title=\"Global\")\n",
    "elec_page = st.Page(\"pages/page1_Electricite.py\", title=\"Electricité\")\n",
    "gaz_page  = st.Page(\"pages/page2_Gaz_naturel.py\", title=\"Gaz naturel\")\n",
    "data_page  = st.Page(\"pages/page3_Description_donnees.py\", title=\"Description données\")\n",
    "import_page  = st.Page(\"pages/page4_Import_donnees.py\", title=\"Import données\")\n",
    "\n",
    "\n",
    "# Chargement des données stockées dans PostGres\n",
    "\n",
    "\n",
    "data_elec_heure = get_data(source = \"elec_hour\")\n",
    "data_elec_jour  = get_data(source = \"elec_jour\")\n",
    "data_gaz_jour   = get_data(source = \"gaz_jour\")\n",
    "data_meteo_jour = get_data(source = \"meteo_jour\")"
   ]
  }
 ],
 "metadata": {
  "language_info": {
   "name": "python"
  }
 },
 "nbformat": 4,
 "nbformat_minor": 5
}
