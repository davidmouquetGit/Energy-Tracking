{
 "cells": [
  {
   "cell_type": "code",
   "execution_count": 1,
   "id": "ed190fc0",
   "metadata": {},
   "outputs": [],
   "source": [
    "from gestionbdd.getdata import get_data"
   ]
  },
  {
   "cell_type": "code",
   "execution_count": 2,
   "id": "eed24e25",
   "metadata": {},
   "outputs": [],
   "source": [
    "\n",
    "\n",
    "data_elec_heure = get_data(source = \"elec_hour\")\n",
    "data_elec_jour  = get_data(source = \"elec_jour\")\n",
    "data_gaz_jour   = get_data(source = \"gaz_jour\")\n",
    "data_meteo_jour = get_data(source = \"meteo_jour\")\n",
    "data_occup_jour = get_data(source = \"occup_jour\")\n",
    "        \n",
    "data_elec_mois  = data_elec_jour['value'].resample(\"MS\").sum()\n",
    "data_gaz_mois   = data_gaz_jour['energie'].resample(\"MS\").sum()\n",
    "\n",
    "data_occup_jour['presence'] = data_occup_jour['presence'].apply(lambda o: 1.0 if o==\"oui\" else 0.0)\n",
    "data_occup_mois             = 100*data_occup_jour['presence'].resample(\"MS\").sum()/data_occup_jour.resample(\"MS\").size()\n",
    "\n",
    "\n",
    "\n",
    "T_moyenne = (data_meteo_jour['temperature_2m_min'] + data_meteo_jour['temperature_2m_max']) / 2\n",
    "data_meteo_jour = data_meteo_jour.assign(DJU=lambda x: (18.0 - T_moyenne).clip(lower=0))\n",
    "data_dju_mois = data_meteo_jour['DJU'].resample('MS').sum()\n"
   ]
  },
  {
   "cell_type": "code",
   "execution_count": 4,
   "id": "c22d1e00",
   "metadata": {},
   "outputs": [
    {
     "data": {
      "text/plain": [
       "['data/data.joblib']"
      ]
     },
     "execution_count": 4,
     "metadata": {},
     "output_type": "execute_result"
    }
   ],
   "source": [
    "from joblib import dump\n",
    "\n",
    "data_struct = {\"data_elec_heure\":data_elec_heure,\n",
    "               \"data_elec_jour\":data_elec_jour,\n",
    "               \"data_gaz_jour\":data_gaz_jour,\n",
    "               \"data_meteo_jour\":data_meteo_jour,\n",
    "               \"data_occup_jour\":data_occup_jour,\n",
    "               \"data_elec_mois\":data_elec_mois,\n",
    "               \"data_gaz_mois\":data_gaz_mois,\n",
    "               \"data_occup_mois\":data_occup_mois,\n",
    "               \"data_dju_mois\":data_dju_mois}\n",
    "\n",
    "dump(data_struct,\"data/data.joblib\")"
   ]
  }
 ],
 "metadata": {
  "kernelspec": {
   "display_name": "env",
   "language": "python",
   "name": "python3"
  },
  "language_info": {
   "codemirror_mode": {
    "name": "ipython",
    "version": 3
   },
   "file_extension": ".py",
   "mimetype": "text/x-python",
   "name": "python",
   "nbconvert_exporter": "python",
   "pygments_lexer": "ipython3",
   "version": "3.10.11"
  }
 },
 "nbformat": 4,
 "nbformat_minor": 5
}
