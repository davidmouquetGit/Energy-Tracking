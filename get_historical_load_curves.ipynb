{
 "cells": [
  {
   "cell_type": "code",
   "execution_count": null,
   "id": "aae6e22e",
   "metadata": {},
   "outputs": [],
   "source": [
    "import os\n",
    "from dotenv import load_dotenv\n",
    "from app.api_client import get_consumption_load\n",
    "from datetime import datetime, timedelta\n",
    "import pandas as pd\n",
    "\n",
    "# Charge les variables depuis le fichier .env\n",
    "load_dotenv()\n",
    "\n",
    "# Récupérer le token\n",
    "API_TOKEN = os.getenv(\"API_TOKEN\")\n",
    "PRM = os.getenv(\"PRM\")\n",
    "\n",
    "\n",
    "\n",
    "start_date = \"2024-12-01\"\n",
    "\n",
    "start_date_dt = datetime.strptime(start_date, \"%Y-%m-%d\")\n",
    "end_date_dt   = start_date_dt + timedelta(days=7)\n",
    "end_date = end_date_dt.strftime(\"%Y-%m-%d\")\n",
    "list_df_data = list()\n",
    "\n",
    "while end_date_dt <= datetime.now() + timedelta(days=1):\n",
    "    print(f\"Récupération des données du {start_date} au {end_date}\")\n",
    "    data = get_consumption_load(PRM, start_date, end_date, API_TOKEN)\n",
    "    start_date_dt = end_date_dt\n",
    "    start_date = start_date_dt.strftime(\"%Y-%m-%d\")\n",
    "    end_date_dt   = start_date_dt + timedelta(days=7)\n",
    "    end_date = end_date_dt.strftime(\"%Y-%m-%d\")\n",
    "    list_data = data['interval_reading']\n",
    "    df = pd.DataFrame(list_data)\n",
    "    list_df_data.append(df)\n",
    "\n",
    "last_date = datetime.strptime(data['interval_reading'][-1]['date'], \"%Y-%m-%d %H:%M:%S\")\n",
    "\n",
    "if last_date < datetime.now():\n",
    "    start_date = last_date.strftime(\"%Y-%m-%d\")\n",
    "    end_date_dt   = last_date + timedelta(days=1)\n",
    "    end_date = end_date_dt.strftime(\"%Y-%m-%d\")\n",
    "    data = get_consumption_load(PRM, start_date, end_date, API_TOKEN)\n",
    "    list_data = data['interval_reading']\n",
    "    df = pd.DataFrame(list_data)\n",
    "    list_df_data.append(df)\n",
    "\n",
    "\n",
    "dataconso = pd.concat(list_df_data, ignore_index=True)\n",
    "\n",
    "# Convertir la colonne 'date' en datetime\n",
    "dataconso['date'] = pd.to_datetime(dataconso['date'])\n",
    "\n",
    "# Convertir 'value' en numérique (int ou float)\n",
    "dataconso['value'] = pd.to_numeric(dataconso['value'])\n",
    "\n",
    "# Définir l'index temporel\n",
    "dataconso.set_index('date', inplace=True)"
   ]
  },
  {
   "cell_type": "code",
   "execution_count": 27,
   "id": "bc6c905b",
   "metadata": {},
   "outputs": [],
   "source": [
    "import psycopg2\n",
    "\n",
    "# Connexion à PostgreSQL\n",
    "conn = psycopg2.connect(\n",
    "    host=\"localhost\",\n",
    "    database=\"electricite\",\n",
    "    user=\"postgres\",\n",
    "    password=\"Labrax_007\"\n",
    ")\n"
   ]
  },
  {
   "cell_type": "code",
   "execution_count": 29,
   "id": "a74319b8",
   "metadata": {},
   "outputs": [],
   "source": [
    "# Créer un curseur\n",
    "cur = conn.cursor()"
   ]
  },
  {
   "cell_type": "code",
   "execution_count": null,
   "id": "a98252b5",
   "metadata": {},
   "outputs": [],
   "source": [
    "# Créer une table de test\n",
    "cur.execute(\"\"\"\n",
    "CREATE TABLE IF NOT EXISTS courbecharge (\n",
    "    id SERIAL PRIMARY KEY,\n",
    "    timestamp TIMESTAMP,\n",
    "    value FLOAT\n",
    ")\n",
    "\"\"\")\n",
    "\n",
    "conn.commit() "
   ]
  },
  {
   "cell_type": "code",
   "execution_count": 40,
   "id": "81941723",
   "metadata": {},
   "outputs": [
    {
     "name": "stdout",
     "output_type": "stream",
     "text": [
      "Type de l'index avant conversion : <class 'pandas.core.indexes.datetimes.DatetimeIndex'>\n",
      "Type de l'index après conversion : <class 'pandas.core.indexes.datetimes.DatetimeIndex'>\n",
      "Erreur à l'insertion de la ligne 2024-12-01 01:00:00: ERREUR:  la transaction est annulée, les commandes sont ignorées jusqu'à la fin du bloc\n",
      "de la transaction\n",
      "\n"
     ]
    }
   ],
   "source": [
    "import pandas as pd\n",
    "from psycopg2 import sql\n",
    "\n",
    "# Vérifie et convertis l'index si nécessaire\n",
    "print(\"Type de l'index avant conversion :\", type(dataconso.index))\n",
    "dataconso.index = pd.to_datetime(dataconso.index)  # Force la conversion en DatetimeIndex\n",
    "print(\"Type de l'index après conversion :\", type(dataconso.index))\n",
    "\n",
    "# Insertion des données\n",
    "for index, row in dataconso.iterrows():\n",
    "    try:\n",
    "        cur.execute(\n",
    "            sql.SQL(\"INSERT INTO courbecharge (timestamp, value) VALUES (%s, %s)\"),\n",
    "            (index, row['value'])\n",
    "        )\n",
    "    except Exception as e:\n",
    "        print(f\"Erreur à l'insertion de la ligne {index}: {e}\")\n",
    "        conn.rollback()\n",
    "    else:\n",
    "        conn.commit()\n"
   ]
  },
  {
   "cell_type": "code",
   "execution_count": 32,
   "id": "d3ced81b",
   "metadata": {},
   "outputs": [
    {
     "name": "stdout",
     "output_type": "stream",
     "text": [
      "('public',)\n"
     ]
    }
   ],
   "source": [
    "cur.execute(\"SELECT current_schema();\")\n",
    "print(cur.fetchone())"
   ]
  },
  {
   "cell_type": "code",
   "execution_count": 41,
   "id": "0611ff0c",
   "metadata": {},
   "outputs": [
    {
     "name": "stdout",
     "output_type": "stream",
     "text": [
      "Les doublons ont été supprimés avec succès.\n"
     ]
    }
   ],
   "source": [
    "from psycopg2 import sql\n",
    "\n",
    "# Requête pour supprimer les doublons (exemple : garde la première occurrence)\n",
    "query = sql.SQL(\"\"\"\n",
    "    DELETE FROM courbecharge\n",
    "    WHERE id NOT IN (\n",
    "        SELECT MIN(id)\n",
    "        FROM courbecharge\n",
    "        GROUP BY timestamp\n",
    "    );\n",
    "\"\"\")\n",
    "\n",
    "try:\n",
    "    cur.execute(query)\n",
    "    conn.commit()\n",
    "    print(\"Les doublons ont été supprimés avec succès.\")\n",
    "except Exception as e:\n",
    "    print(f\"Erreur lors de la suppression des doublons : {e}\")\n",
    "    conn.rollback()"
   ]
  },
  {
   "cell_type": "code",
   "execution_count": 42,
   "id": "72a81ac5",
   "metadata": {},
   "outputs": [],
   "source": [
    "conn.close()"
   ]
  }
 ],
 "metadata": {
  "kernelspec": {
   "display_name": "env",
   "language": "python",
   "name": "python3"
  },
  "language_info": {
   "codemirror_mode": {
    "name": "ipython",
    "version": 3
   },
   "file_extension": ".py",
   "mimetype": "text/x-python",
   "name": "python",
   "nbconvert_exporter": "python",
   "pygments_lexer": "ipython3",
   "version": "3.10.11"
  }
 },
 "nbformat": 4,
 "nbformat_minor": 5
}
